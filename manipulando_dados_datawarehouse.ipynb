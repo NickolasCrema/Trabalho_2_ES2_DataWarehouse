{
 "cells": [
  {
   "cell_type": "code",
   "execution_count": 365,
   "metadata": {},
   "outputs": [],
   "source": [
    "import psycopg2\n",
    "import pandas as pd\n",
    "import plotly.express as px"
   ]
  },
  {
   "cell_type": "code",
   "execution_count": 366,
   "metadata": {},
   "outputs": [],
   "source": [
    "with open('dbConnection.txt', 'r') as f:\n",
    "    file_output = f.read()\n",
    "\n",
    "file_lines = file_output.split('\\n')\n",
    "host = file_lines[0].split('=')[-1]\n",
    "database = file_lines[1].split('=')[-1]\n",
    "user = file_lines[2].split('=')[-1]\n",
    "password = file_lines[3].split('=')[-1]"
   ]
  },
  {
   "cell_type": "code",
   "execution_count": 367,
   "metadata": {},
   "outputs": [],
   "source": [
    "# connection = psycopg2.connect(host=host, database=database, user=user, password=password)\n",
    "# cursor = connection.cursor()\n",
    "\n",
    "# sql_1_trimestre_2023 = \"\"\"CREATE VIEW view_receita_1_trimestre_2023 AS SELECT fato_vendas.faturamento, fato_vendas.quantidade_vendida,\n",
    "#                                         fato_vendas.imposto, fato_vendas.custo_variavel,\n",
    "#                                         dim_tempo.numero_trimestre, nome_trimestre, dim_tempo.nome_do_mes, dim_tempo.data,\n",
    "#                                         dim_localidade.lat_cidade, dim_localidade.long_cidade, dim_localidade.nome_cidade\n",
    "#                         FROM fato_vendas\n",
    "#                                 INNER JOIN dim_cliente \n",
    "#                                         ON fato_vendas.sk_cliente = dim_cliente.sk_cliente\n",
    "#                                 INNER JOIN dim_localidade \n",
    "#                                         ON dim_cliente.sk_localidade = dim_localidade.sk_localidade\n",
    "#                                 INNER JOIN dim_tempo \n",
    "#                                         ON fato_vendas.sk_tempo = dim_tempo.sk_tempo\n",
    "#                         WHERE dim_tempo.numero_trimestre = '1' AND dim_tempo.numero_ano = '2023'\"\"\"\n",
    "\n",
    "# cursor.execute(sql_1_trimestre_2023).fetchall()\n",
    "\n",
    "# connection.close()"
   ]
  },
  {
   "cell_type": "code",
   "execution_count": 368,
   "metadata": {},
   "outputs": [],
   "source": [
    "connection = psycopg2.connect(host=host, database=database, user=user, password=password)\n",
    "cursor = connection.cursor()\n",
    "\n",
    "sql_1_trimestre_2023 = \"\"\"SELECT * FROM view_receita_1_trimestre_2023\"\"\"\n",
    "\n",
    "cursor.execute(sql_1_trimestre_2023)\n",
    "\n",
    "dados_1_trimestre_2023 = cursor.fetchall()\n",
    "\n",
    "connection.close()"
   ]
  },
  {
   "cell_type": "code",
   "execution_count": 369,
   "metadata": {},
   "outputs": [],
   "source": [
    "dataset_1_trimestre_2023 = pd.DataFrame(\n",
    "    dados_1_trimestre_2023, \n",
    "    columns=[\n",
    "        'Faturamento', \n",
    "        'Quantidade_Vendida', \n",
    "        'Imposto', \n",
    "        'Custo_Variavel', \n",
    "        'Numero_Trimestre', \n",
    "        'Nome_Trimestre', \n",
    "        'Nome_Mes',\n",
    "        'Data',\n",
    "        'Lat_Cidade',\n",
    "        'Long_Cidade',\n",
    "        'Nome_Cidade'\n",
    "        ]\n",
    "        )"
   ]
  },
  {
   "cell_type": "code",
   "execution_count": 370,
   "metadata": {},
   "outputs": [
    {
     "data": {
      "text/html": [
       "<div>\n",
       "<style scoped>\n",
       "    .dataframe tbody tr th:only-of-type {\n",
       "        vertical-align: middle;\n",
       "    }\n",
       "\n",
       "    .dataframe tbody tr th {\n",
       "        vertical-align: top;\n",
       "    }\n",
       "\n",
       "    .dataframe thead th {\n",
       "        text-align: right;\n",
       "    }\n",
       "</style>\n",
       "<table border=\"1\" class=\"dataframe\">\n",
       "  <thead>\n",
       "    <tr style=\"text-align: right;\">\n",
       "      <th></th>\n",
       "      <th>Faturamento</th>\n",
       "      <th>Quantidade_Vendida</th>\n",
       "      <th>Imposto</th>\n",
       "      <th>Custo_Variavel</th>\n",
       "      <th>Numero_Trimestre</th>\n",
       "      <th>Nome_Trimestre</th>\n",
       "      <th>Nome_Mes</th>\n",
       "      <th>Data</th>\n",
       "      <th>Lat_Cidade</th>\n",
       "      <th>Long_Cidade</th>\n",
       "      <th>Nome_Cidade</th>\n",
       "    </tr>\n",
       "  </thead>\n",
       "  <tbody>\n",
       "    <tr>\n",
       "      <th>0</th>\n",
       "      <td>220.0</td>\n",
       "      <td>4</td>\n",
       "      <td>10.0</td>\n",
       "      <td>35.0</td>\n",
       "      <td>1</td>\n",
       "      <td>Primeiro Trimestre</td>\n",
       "      <td>Janeiro</td>\n",
       "      <td>2023-01-03</td>\n",
       "      <td>-12.97180000</td>\n",
       "      <td>-38.50110000</td>\n",
       "      <td>Salvador</td>\n",
       "    </tr>\n",
       "    <tr>\n",
       "      <th>1</th>\n",
       "      <td>140.0</td>\n",
       "      <td>3</td>\n",
       "      <td>8.0</td>\n",
       "      <td>25.0</td>\n",
       "      <td>1</td>\n",
       "      <td>Primeiro Trimestre</td>\n",
       "      <td>Janeiro</td>\n",
       "      <td>2023-01-20</td>\n",
       "      <td>-30.03180000</td>\n",
       "      <td>-51.20650000</td>\n",
       "      <td>Porto Alegre</td>\n",
       "    </tr>\n",
       "    <tr>\n",
       "      <th>2</th>\n",
       "      <td>310.0</td>\n",
       "      <td>7</td>\n",
       "      <td>15.0</td>\n",
       "      <td>60.0</td>\n",
       "      <td>1</td>\n",
       "      <td>Primeiro Trimestre</td>\n",
       "      <td>Fevereiro</td>\n",
       "      <td>2023-02-06</td>\n",
       "      <td>-22.88320000</td>\n",
       "      <td>-43.10340000</td>\n",
       "      <td>Niterói</td>\n",
       "    </tr>\n",
       "    <tr>\n",
       "      <th>3</th>\n",
       "      <td>260.0</td>\n",
       "      <td>6</td>\n",
       "      <td>14.0</td>\n",
       "      <td>50.0</td>\n",
       "      <td>1</td>\n",
       "      <td>Primeiro Trimestre</td>\n",
       "      <td>Fevereiro</td>\n",
       "      <td>2023-02-23</td>\n",
       "      <td>-30.03180000</td>\n",
       "      <td>-51.20650000</td>\n",
       "      <td>Porto Alegre</td>\n",
       "    </tr>\n",
       "    <tr>\n",
       "      <th>4</th>\n",
       "      <td>110.0</td>\n",
       "      <td>2</td>\n",
       "      <td>5.0</td>\n",
       "      <td>15.0</td>\n",
       "      <td>1</td>\n",
       "      <td>Primeiro Trimestre</td>\n",
       "      <td>Março</td>\n",
       "      <td>2023-03-12</td>\n",
       "      <td>-25.41950000</td>\n",
       "      <td>-49.26460000</td>\n",
       "      <td>Curitiba</td>\n",
       "    </tr>\n",
       "  </tbody>\n",
       "</table>\n",
       "</div>"
      ],
      "text/plain": [
       "   Faturamento  Quantidade_Vendida  Imposto  Custo_Variavel Numero_Trimestre  \\\n",
       "0        220.0                   4     10.0            35.0                1   \n",
       "1        140.0                   3      8.0            25.0                1   \n",
       "2        310.0                   7     15.0            60.0                1   \n",
       "3        260.0                   6     14.0            50.0                1   \n",
       "4        110.0                   2      5.0            15.0                1   \n",
       "\n",
       "       Nome_Trimestre   Nome_Mes        Data    Lat_Cidade   Long_Cidade  \\\n",
       "0  Primeiro Trimestre    Janeiro  2023-01-03  -12.97180000  -38.50110000   \n",
       "1  Primeiro Trimestre    Janeiro  2023-01-20  -30.03180000  -51.20650000   \n",
       "2  Primeiro Trimestre  Fevereiro  2023-02-06  -22.88320000  -43.10340000   \n",
       "3  Primeiro Trimestre  Fevereiro  2023-02-23  -30.03180000  -51.20650000   \n",
       "4  Primeiro Trimestre      Março  2023-03-12  -25.41950000  -49.26460000   \n",
       "\n",
       "    Nome_Cidade  \n",
       "0      Salvador  \n",
       "1  Porto Alegre  \n",
       "2       Niterói  \n",
       "3  Porto Alegre  \n",
       "4      Curitiba  "
      ]
     },
     "execution_count": 370,
     "metadata": {},
     "output_type": "execute_result"
    }
   ],
   "source": [
    "dataset_1_trimestre_2023.head()"
   ]
  },
  {
   "cell_type": "code",
   "execution_count": 371,
   "metadata": {},
   "outputs": [
    {
     "data": {
      "text/plain": [
       "Faturamento           510\n",
       "Quantidade_Vendida    510\n",
       "Imposto               510\n",
       "Custo_Variavel        510\n",
       "Numero_Trimestre      510\n",
       "Nome_Trimestre        510\n",
       "Nome_Mes              510\n",
       "Data                  510\n",
       "Lat_Cidade            510\n",
       "Long_Cidade           510\n",
       "Nome_Cidade           510\n",
       "dtype: int64"
      ]
     },
     "execution_count": 371,
     "metadata": {},
     "output_type": "execute_result"
    }
   ],
   "source": [
    "dataset_1_trimestre_2023.count()"
   ]
  },
  {
   "cell_type": "code",
   "execution_count": 372,
   "metadata": {},
   "outputs": [],
   "source": [
    "# connection = psycopg2.connect(host=host, database=database, user=user, password=password)\n",
    "# cursor = connection.cursor()\n",
    "# sql_2_trimestre_2023 = \"\"\"CREATE VIEW view_receita_2_trimestre_2023 AS SELECT fato_vendas.faturamento, fato_vendas.quantidade_vendida,\n",
    "#                                         fato_vendas.imposto, fato_vendas.custo_variavel,\n",
    "#                                         dim_tempo.numero_trimestre, nome_trimestre, dim_tempo.nome_do_mes, dim_tempo.data,\n",
    "#                                         dim_localidade.lat_cidade, dim_localidade.long_cidade, dim_localidade.nome_cidade\n",
    "#                         FROM fato_vendas\n",
    "#                                 INNER JOIN dim_cliente \n",
    "#                                         ON fato_vendas.sk_cliente = dim_cliente.sk_cliente\n",
    "#                                 INNER JOIN dim_localidade \n",
    "#                                         ON dim_cliente.sk_localidade = dim_localidade.sk_localidade\n",
    "#                                 INNER JOIN dim_tempo \n",
    "#                                         ON fato_vendas.sk_tempo = dim_tempo.sk_tempo\n",
    "#                         WHERE dim_tempo.numero_trimestre = '2' AND dim_tempo.numero_ano = '2023'\"\"\"\n",
    "\n",
    "# cursor.execute(sql_2_trimestre_2023)"
   ]
  },
  {
   "cell_type": "code",
   "execution_count": 373,
   "metadata": {},
   "outputs": [],
   "source": [
    "connection = psycopg2.connect(host=host, database=database, user=user, password=password)\n",
    "cursor = connection.cursor()\n",
    "\n",
    "sql_2_trimestre_2023 = \"\"\"SELECT * FROM view_receita_2_trimestre_2023\"\"\"\n",
    "\n",
    "cursor.execute(sql_2_trimestre_2023)\n",
    "\n",
    "dados_2_trimestre_2023 = cursor.fetchall()\n",
    "\n",
    "connection.close()"
   ]
  },
  {
   "cell_type": "code",
   "execution_count": 374,
   "metadata": {},
   "outputs": [],
   "source": [
    "dataset_2_trimestre_2023 = pd.DataFrame(\n",
    "    dados_2_trimestre_2023, \n",
    "    columns=[\n",
    "        'Faturamento', \n",
    "        'Quantidade_Vendida', \n",
    "        'Imposto', \n",
    "        'Custo_Variavel', \n",
    "        'Numero_Trimestre', \n",
    "        'Nome_Trimestre', \n",
    "        'Nome_Mes',\n",
    "        'Data',\n",
    "        'Lat_Cidade',\n",
    "        'Long_Cidade',\n",
    "        'Nome_Cidade']\n",
    "        )"
   ]
  },
  {
   "cell_type": "code",
   "execution_count": 375,
   "metadata": {},
   "outputs": [
    {
     "data": {
      "text/html": [
       "<div>\n",
       "<style scoped>\n",
       "    .dataframe tbody tr th:only-of-type {\n",
       "        vertical-align: middle;\n",
       "    }\n",
       "\n",
       "    .dataframe tbody tr th {\n",
       "        vertical-align: top;\n",
       "    }\n",
       "\n",
       "    .dataframe thead th {\n",
       "        text-align: right;\n",
       "    }\n",
       "</style>\n",
       "<table border=\"1\" class=\"dataframe\">\n",
       "  <thead>\n",
       "    <tr style=\"text-align: right;\">\n",
       "      <th></th>\n",
       "      <th>Faturamento</th>\n",
       "      <th>Quantidade_Vendida</th>\n",
       "      <th>Imposto</th>\n",
       "      <th>Custo_Variavel</th>\n",
       "      <th>Numero_Trimestre</th>\n",
       "      <th>Nome_Trimestre</th>\n",
       "      <th>Nome_Mes</th>\n",
       "      <th>Data</th>\n",
       "      <th>Lat_Cidade</th>\n",
       "      <th>Long_Cidade</th>\n",
       "      <th>Nome_Cidade</th>\n",
       "    </tr>\n",
       "  </thead>\n",
       "  <tbody>\n",
       "    <tr>\n",
       "      <th>0</th>\n",
       "      <td>120.0</td>\n",
       "      <td>3</td>\n",
       "      <td>8.0</td>\n",
       "      <td>20.0</td>\n",
       "      <td>2</td>\n",
       "      <td>Segundo Trimestre</td>\n",
       "      <td>Abril</td>\n",
       "      <td>2023-04-15</td>\n",
       "      <td>-30.03180000</td>\n",
       "      <td>-51.20650000</td>\n",
       "      <td>Porto Alegre</td>\n",
       "    </tr>\n",
       "    <tr>\n",
       "      <th>1</th>\n",
       "      <td>250.0</td>\n",
       "      <td>6</td>\n",
       "      <td>14.0</td>\n",
       "      <td>50.0</td>\n",
       "      <td>2</td>\n",
       "      <td>Segundo Trimestre</td>\n",
       "      <td>Abril</td>\n",
       "      <td>2023-04-02</td>\n",
       "      <td>-9.95542000</td>\n",
       "      <td>-36.79260000</td>\n",
       "      <td>Campo Grande</td>\n",
       "    </tr>\n",
       "    <tr>\n",
       "      <th>2</th>\n",
       "      <td>330.0</td>\n",
       "      <td>8</td>\n",
       "      <td>16.0</td>\n",
       "      <td>70.0</td>\n",
       "      <td>2</td>\n",
       "      <td>Segundo Trimestre</td>\n",
       "      <td>Maio</td>\n",
       "      <td>2023-05-19</td>\n",
       "      <td>-22.91290000</td>\n",
       "      <td>-43.20030000</td>\n",
       "      <td>Rio de Janeiro</td>\n",
       "    </tr>\n",
       "    <tr>\n",
       "      <th>3</th>\n",
       "      <td>100.0</td>\n",
       "      <td>4</td>\n",
       "      <td>7.0</td>\n",
       "      <td>16.0</td>\n",
       "      <td>2</td>\n",
       "      <td>Segundo Trimestre</td>\n",
       "      <td>Abril</td>\n",
       "      <td>2023-04-15</td>\n",
       "      <td>-22.91290000</td>\n",
       "      <td>-43.20030000</td>\n",
       "      <td>Rio de Janeiro</td>\n",
       "    </tr>\n",
       "    <tr>\n",
       "      <th>4</th>\n",
       "      <td>275.0</td>\n",
       "      <td>9</td>\n",
       "      <td>13.0</td>\n",
       "      <td>32.0</td>\n",
       "      <td>2</td>\n",
       "      <td>Segundo Trimestre</td>\n",
       "      <td>Junho</td>\n",
       "      <td>2023-06-03</td>\n",
       "      <td>-23.53290000</td>\n",
       "      <td>-46.63950000</td>\n",
       "      <td>São Paulo</td>\n",
       "    </tr>\n",
       "  </tbody>\n",
       "</table>\n",
       "</div>"
      ],
      "text/plain": [
       "   Faturamento  Quantidade_Vendida  Imposto  Custo_Variavel Numero_Trimestre  \\\n",
       "0        120.0                   3      8.0            20.0                2   \n",
       "1        250.0                   6     14.0            50.0                2   \n",
       "2        330.0                   8     16.0            70.0                2   \n",
       "3        100.0                   4      7.0            16.0                2   \n",
       "4        275.0                   9     13.0            32.0                2   \n",
       "\n",
       "      Nome_Trimestre Nome_Mes        Data    Lat_Cidade   Long_Cidade  \\\n",
       "0  Segundo Trimestre    Abril  2023-04-15  -30.03180000  -51.20650000   \n",
       "1  Segundo Trimestre    Abril  2023-04-02   -9.95542000  -36.79260000   \n",
       "2  Segundo Trimestre     Maio  2023-05-19  -22.91290000  -43.20030000   \n",
       "3  Segundo Trimestre    Abril  2023-04-15  -22.91290000  -43.20030000   \n",
       "4  Segundo Trimestre    Junho  2023-06-03  -23.53290000  -46.63950000   \n",
       "\n",
       "      Nome_Cidade  \n",
       "0    Porto Alegre  \n",
       "1    Campo Grande  \n",
       "2  Rio de Janeiro  \n",
       "3  Rio de Janeiro  \n",
       "4       São Paulo  "
      ]
     },
     "execution_count": 375,
     "metadata": {},
     "output_type": "execute_result"
    }
   ],
   "source": [
    "dataset_2_trimestre_2023.head()"
   ]
  },
  {
   "cell_type": "code",
   "execution_count": 376,
   "metadata": {},
   "outputs": [
    {
     "data": {
      "text/plain": [
       "Faturamento           496\n",
       "Quantidade_Vendida    496\n",
       "Imposto               496\n",
       "Custo_Variavel        496\n",
       "Numero_Trimestre      496\n",
       "Nome_Trimestre        496\n",
       "Nome_Mes              496\n",
       "Data                  496\n",
       "Lat_Cidade            496\n",
       "Long_Cidade           496\n",
       "Nome_Cidade           496\n",
       "dtype: int64"
      ]
     },
     "execution_count": 376,
     "metadata": {},
     "output_type": "execute_result"
    }
   ],
   "source": [
    "dataset_2_trimestre_2023.count()"
   ]
  },
  {
   "cell_type": "code",
   "execution_count": 377,
   "metadata": {},
   "outputs": [],
   "source": [
    "def variacao_percentual(trimestre_passado, trimestre_atual):\n",
    "    if trimestre_atual > trimestre_passado:\n",
    "        return (((trimestre_atual - trimestre_passado) / trimestre_passado) * 100, 0)\n",
    "    else:\n",
    "        return (((trimestre_passado - trimestre_atual) / trimestre_passado) * 100, -1)"
   ]
  },
  {
   "cell_type": "code",
   "execution_count": 378,
   "metadata": {},
   "outputs": [
    {
     "data": {
      "text/plain": [
       "(100.0, 0)"
      ]
     },
     "execution_count": 378,
     "metadata": {},
     "output_type": "execute_result"
    }
   ],
   "source": [
    "variacao_percentual(10, 20)"
   ]
  },
  {
   "cell_type": "code",
   "execution_count": 379,
   "metadata": {},
   "outputs": [
    {
     "data": {
      "text/plain": [
       "(50.0, -1)"
      ]
     },
     "execution_count": 379,
     "metadata": {},
     "output_type": "execute_result"
    }
   ],
   "source": [
    "variacao_percentual(20, 10)"
   ]
  },
  {
   "cell_type": "code",
   "execution_count": 380,
   "metadata": {},
   "outputs": [
    {
     "data": {
      "text/html": [
       "<div>\n",
       "<style scoped>\n",
       "    .dataframe tbody tr th:only-of-type {\n",
       "        vertical-align: middle;\n",
       "    }\n",
       "\n",
       "    .dataframe tbody tr th {\n",
       "        vertical-align: top;\n",
       "    }\n",
       "\n",
       "    .dataframe thead th {\n",
       "        text-align: right;\n",
       "    }\n",
       "</style>\n",
       "<table border=\"1\" class=\"dataframe\">\n",
       "  <thead>\n",
       "    <tr style=\"text-align: right;\">\n",
       "      <th></th>\n",
       "      <th>Faturamento</th>\n",
       "      <th>Quantidade_Vendida</th>\n",
       "      <th>Imposto</th>\n",
       "      <th>Custo_Variavel</th>\n",
       "      <th>Numero_Trimestre</th>\n",
       "      <th>Nome_Trimestre</th>\n",
       "      <th>Nome_Mes</th>\n",
       "      <th>Data</th>\n",
       "      <th>Lat_Cidade</th>\n",
       "      <th>Long_Cidade</th>\n",
       "      <th>Nome_Cidade</th>\n",
       "    </tr>\n",
       "  </thead>\n",
       "  <tbody>\n",
       "    <tr>\n",
       "      <th>0</th>\n",
       "      <td>220.0</td>\n",
       "      <td>4</td>\n",
       "      <td>10.0</td>\n",
       "      <td>35.0</td>\n",
       "      <td>1</td>\n",
       "      <td>Primeiro Trimestre</td>\n",
       "      <td>Janeiro</td>\n",
       "      <td>2023-01-03</td>\n",
       "      <td>-12.97180000</td>\n",
       "      <td>-38.50110000</td>\n",
       "      <td>Salvador</td>\n",
       "    </tr>\n",
       "    <tr>\n",
       "      <th>1</th>\n",
       "      <td>140.0</td>\n",
       "      <td>3</td>\n",
       "      <td>8.0</td>\n",
       "      <td>25.0</td>\n",
       "      <td>1</td>\n",
       "      <td>Primeiro Trimestre</td>\n",
       "      <td>Janeiro</td>\n",
       "      <td>2023-01-20</td>\n",
       "      <td>-30.03180000</td>\n",
       "      <td>-51.20650000</td>\n",
       "      <td>Porto Alegre</td>\n",
       "    </tr>\n",
       "    <tr>\n",
       "      <th>2</th>\n",
       "      <td>310.0</td>\n",
       "      <td>7</td>\n",
       "      <td>15.0</td>\n",
       "      <td>60.0</td>\n",
       "      <td>1</td>\n",
       "      <td>Primeiro Trimestre</td>\n",
       "      <td>Fevereiro</td>\n",
       "      <td>2023-02-06</td>\n",
       "      <td>-22.88320000</td>\n",
       "      <td>-43.10340000</td>\n",
       "      <td>Niterói</td>\n",
       "    </tr>\n",
       "    <tr>\n",
       "      <th>3</th>\n",
       "      <td>260.0</td>\n",
       "      <td>6</td>\n",
       "      <td>14.0</td>\n",
       "      <td>50.0</td>\n",
       "      <td>1</td>\n",
       "      <td>Primeiro Trimestre</td>\n",
       "      <td>Fevereiro</td>\n",
       "      <td>2023-02-23</td>\n",
       "      <td>-30.03180000</td>\n",
       "      <td>-51.20650000</td>\n",
       "      <td>Porto Alegre</td>\n",
       "    </tr>\n",
       "    <tr>\n",
       "      <th>4</th>\n",
       "      <td>110.0</td>\n",
       "      <td>2</td>\n",
       "      <td>5.0</td>\n",
       "      <td>15.0</td>\n",
       "      <td>1</td>\n",
       "      <td>Primeiro Trimestre</td>\n",
       "      <td>Março</td>\n",
       "      <td>2023-03-12</td>\n",
       "      <td>-25.41950000</td>\n",
       "      <td>-49.26460000</td>\n",
       "      <td>Curitiba</td>\n",
       "    </tr>\n",
       "  </tbody>\n",
       "</table>\n",
       "</div>"
      ],
      "text/plain": [
       "   Faturamento  Quantidade_Vendida  Imposto  Custo_Variavel Numero_Trimestre  \\\n",
       "0        220.0                   4     10.0            35.0                1   \n",
       "1        140.0                   3      8.0            25.0                1   \n",
       "2        310.0                   7     15.0            60.0                1   \n",
       "3        260.0                   6     14.0            50.0                1   \n",
       "4        110.0                   2      5.0            15.0                1   \n",
       "\n",
       "       Nome_Trimestre   Nome_Mes        Data    Lat_Cidade   Long_Cidade  \\\n",
       "0  Primeiro Trimestre    Janeiro  2023-01-03  -12.97180000  -38.50110000   \n",
       "1  Primeiro Trimestre    Janeiro  2023-01-20  -30.03180000  -51.20650000   \n",
       "2  Primeiro Trimestre  Fevereiro  2023-02-06  -22.88320000  -43.10340000   \n",
       "3  Primeiro Trimestre  Fevereiro  2023-02-23  -30.03180000  -51.20650000   \n",
       "4  Primeiro Trimestre      Março  2023-03-12  -25.41950000  -49.26460000   \n",
       "\n",
       "    Nome_Cidade  \n",
       "0      Salvador  \n",
       "1  Porto Alegre  \n",
       "2       Niterói  \n",
       "3  Porto Alegre  \n",
       "4      Curitiba  "
      ]
     },
     "execution_count": 380,
     "metadata": {},
     "output_type": "execute_result"
    }
   ],
   "source": [
    "dataset_1_semestre_2023 = pd.concat([dataset_1_trimestre_2023, dataset_2_trimestre_2023])\n",
    "dataset_1_semestre_2023.head()"
   ]
  },
  {
   "cell_type": "code",
   "execution_count": 381,
   "metadata": {},
   "outputs": [
    {
     "data": {
      "text/html": [
       "<div>\n",
       "<style scoped>\n",
       "    .dataframe tbody tr th:only-of-type {\n",
       "        vertical-align: middle;\n",
       "    }\n",
       "\n",
       "    .dataframe tbody tr th {\n",
       "        vertical-align: top;\n",
       "    }\n",
       "\n",
       "    .dataframe thead th {\n",
       "        text-align: right;\n",
       "    }\n",
       "</style>\n",
       "<table border=\"1\" class=\"dataframe\">\n",
       "  <thead>\n",
       "    <tr style=\"text-align: right;\">\n",
       "      <th></th>\n",
       "      <th>Faturamento</th>\n",
       "      <th>Quantidade_Vendida</th>\n",
       "      <th>Imposto</th>\n",
       "      <th>Custo_Variavel</th>\n",
       "      <th>Numero_Trimestre</th>\n",
       "      <th>Nome_Trimestre</th>\n",
       "      <th>Nome_Mes</th>\n",
       "      <th>Data</th>\n",
       "      <th>Lat_Cidade</th>\n",
       "      <th>Long_Cidade</th>\n",
       "      <th>Nome_Cidade</th>\n",
       "      <th>Receita</th>\n",
       "    </tr>\n",
       "  </thead>\n",
       "  <tbody>\n",
       "    <tr>\n",
       "      <th>0</th>\n",
       "      <td>220.0</td>\n",
       "      <td>4</td>\n",
       "      <td>10.0</td>\n",
       "      <td>35.0</td>\n",
       "      <td>1</td>\n",
       "      <td>Primeiro Trimestre</td>\n",
       "      <td>Janeiro</td>\n",
       "      <td>2023-01-03</td>\n",
       "      <td>-12.97180000</td>\n",
       "      <td>-38.50110000</td>\n",
       "      <td>Salvador</td>\n",
       "      <td>175.0</td>\n",
       "    </tr>\n",
       "    <tr>\n",
       "      <th>1</th>\n",
       "      <td>140.0</td>\n",
       "      <td>3</td>\n",
       "      <td>8.0</td>\n",
       "      <td>25.0</td>\n",
       "      <td>1</td>\n",
       "      <td>Primeiro Trimestre</td>\n",
       "      <td>Janeiro</td>\n",
       "      <td>2023-01-20</td>\n",
       "      <td>-30.03180000</td>\n",
       "      <td>-51.20650000</td>\n",
       "      <td>Porto Alegre</td>\n",
       "      <td>107.0</td>\n",
       "    </tr>\n",
       "    <tr>\n",
       "      <th>2</th>\n",
       "      <td>310.0</td>\n",
       "      <td>7</td>\n",
       "      <td>15.0</td>\n",
       "      <td>60.0</td>\n",
       "      <td>1</td>\n",
       "      <td>Primeiro Trimestre</td>\n",
       "      <td>Fevereiro</td>\n",
       "      <td>2023-02-06</td>\n",
       "      <td>-22.88320000</td>\n",
       "      <td>-43.10340000</td>\n",
       "      <td>Niterói</td>\n",
       "      <td>235.0</td>\n",
       "    </tr>\n",
       "    <tr>\n",
       "      <th>3</th>\n",
       "      <td>260.0</td>\n",
       "      <td>6</td>\n",
       "      <td>14.0</td>\n",
       "      <td>50.0</td>\n",
       "      <td>1</td>\n",
       "      <td>Primeiro Trimestre</td>\n",
       "      <td>Fevereiro</td>\n",
       "      <td>2023-02-23</td>\n",
       "      <td>-30.03180000</td>\n",
       "      <td>-51.20650000</td>\n",
       "      <td>Porto Alegre</td>\n",
       "      <td>196.0</td>\n",
       "    </tr>\n",
       "    <tr>\n",
       "      <th>4</th>\n",
       "      <td>110.0</td>\n",
       "      <td>2</td>\n",
       "      <td>5.0</td>\n",
       "      <td>15.0</td>\n",
       "      <td>1</td>\n",
       "      <td>Primeiro Trimestre</td>\n",
       "      <td>Março</td>\n",
       "      <td>2023-03-12</td>\n",
       "      <td>-25.41950000</td>\n",
       "      <td>-49.26460000</td>\n",
       "      <td>Curitiba</td>\n",
       "      <td>90.0</td>\n",
       "    </tr>\n",
       "  </tbody>\n",
       "</table>\n",
       "</div>"
      ],
      "text/plain": [
       "   Faturamento  Quantidade_Vendida  Imposto  Custo_Variavel Numero_Trimestre  \\\n",
       "0        220.0                   4     10.0            35.0                1   \n",
       "1        140.0                   3      8.0            25.0                1   \n",
       "2        310.0                   7     15.0            60.0                1   \n",
       "3        260.0                   6     14.0            50.0                1   \n",
       "4        110.0                   2      5.0            15.0                1   \n",
       "\n",
       "       Nome_Trimestre   Nome_Mes        Data    Lat_Cidade   Long_Cidade  \\\n",
       "0  Primeiro Trimestre    Janeiro  2023-01-03  -12.97180000  -38.50110000   \n",
       "1  Primeiro Trimestre    Janeiro  2023-01-20  -30.03180000  -51.20650000   \n",
       "2  Primeiro Trimestre  Fevereiro  2023-02-06  -22.88320000  -43.10340000   \n",
       "3  Primeiro Trimestre  Fevereiro  2023-02-23  -30.03180000  -51.20650000   \n",
       "4  Primeiro Trimestre      Março  2023-03-12  -25.41950000  -49.26460000   \n",
       "\n",
       "    Nome_Cidade  Receita  \n",
       "0      Salvador    175.0  \n",
       "1  Porto Alegre    107.0  \n",
       "2       Niterói    235.0  \n",
       "3  Porto Alegre    196.0  \n",
       "4      Curitiba     90.0  "
      ]
     },
     "execution_count": 381,
     "metadata": {},
     "output_type": "execute_result"
    }
   ],
   "source": [
    "dataset_1_semestre_2023['Receita'] = dataset_1_semestre_2023['Faturamento']\\\n",
    "                                        - dataset_1_semestre_2023['Imposto']\\\n",
    "                                        - dataset_1_semestre_2023['Custo_Variavel']\n",
    "dataset_1_semestre_2023.head()"
   ]
  },
  {
   "cell_type": "code",
   "execution_count": 382,
   "metadata": {},
   "outputs": [
    {
     "data": {
      "text/html": [
       "<div>\n",
       "<style scoped>\n",
       "    .dataframe tbody tr th:only-of-type {\n",
       "        vertical-align: middle;\n",
       "    }\n",
       "\n",
       "    .dataframe tbody tr th {\n",
       "        vertical-align: top;\n",
       "    }\n",
       "\n",
       "    .dataframe thead th {\n",
       "        text-align: right;\n",
       "    }\n",
       "</style>\n",
       "<table border=\"1\" class=\"dataframe\">\n",
       "  <thead>\n",
       "    <tr style=\"text-align: right;\">\n",
       "      <th></th>\n",
       "      <th>Nome_Mes</th>\n",
       "      <th>Receita</th>\n",
       "    </tr>\n",
       "  </thead>\n",
       "  <tbody>\n",
       "    <tr>\n",
       "      <th>0</th>\n",
       "      <td>Abril</td>\n",
       "      <td>12006.5</td>\n",
       "    </tr>\n",
       "    <tr>\n",
       "      <th>1</th>\n",
       "      <td>Fevereiro</td>\n",
       "      <td>16889.8</td>\n",
       "    </tr>\n",
       "    <tr>\n",
       "      <th>2</th>\n",
       "      <td>Janeiro</td>\n",
       "      <td>19307.0</td>\n",
       "    </tr>\n",
       "    <tr>\n",
       "      <th>3</th>\n",
       "      <td>Junho</td>\n",
       "      <td>14150.5</td>\n",
       "    </tr>\n",
       "    <tr>\n",
       "      <th>4</th>\n",
       "      <td>Maio</td>\n",
       "      <td>27314.1</td>\n",
       "    </tr>\n",
       "  </tbody>\n",
       "</table>\n",
       "</div>"
      ],
      "text/plain": [
       "    Nome_Mes  Receita\n",
       "0      Abril  12006.5\n",
       "1  Fevereiro  16889.8\n",
       "2    Janeiro  19307.0\n",
       "3      Junho  14150.5\n",
       "4       Maio  27314.1"
      ]
     },
     "execution_count": 382,
     "metadata": {},
     "output_type": "execute_result"
    }
   ],
   "source": [
    "receita_mensal_1_semestre_2023 = dataset_1_semestre_2023.groupby('Nome_Mes')[['Receita']].sum().reset_index()\n",
    "receita_mensal_1_semestre_2023.head()"
   ]
  },
  {
   "cell_type": "code",
   "execution_count": 383,
   "metadata": {},
   "outputs": [
    {
     "ename": "TypeError",
     "evalue": "'dict' object is not callable",
     "output_type": "error",
     "traceback": [
      "\u001b[1;31m---------------------------------------------------------------------------\u001b[0m",
      "\u001b[1;31mTypeError\u001b[0m                                 Traceback (most recent call last)",
      "Cell \u001b[1;32mIn[383], line 2\u001b[0m\n\u001b[0;32m      1\u001b[0m sorter \u001b[39m=\u001b[39m [\u001b[39m'\u001b[39m\u001b[39mJaneiro\u001b[39m\u001b[39m'\u001b[39m, \u001b[39m'\u001b[39m\u001b[39mFevereiro\u001b[39m\u001b[39m'\u001b[39m, \u001b[39m'\u001b[39m\u001b[39mMarço\u001b[39m\u001b[39m'\u001b[39m, \u001b[39m'\u001b[39m\u001b[39mAbril\u001b[39m\u001b[39m'\u001b[39m, \u001b[39m'\u001b[39m\u001b[39mMaio\u001b[39m\u001b[39m'\u001b[39m, \u001b[39m'\u001b[39m\u001b[39mJunho\u001b[39m\u001b[39m'\u001b[39m]\n\u001b[1;32m----> 2\u001b[0m sorterIndex \u001b[39m=\u001b[39m \u001b[39mdict\u001b[39;49m(\u001b[39mzip\u001b[39;49m(sorter, \u001b[39mrange\u001b[39;49m(\u001b[39mlen\u001b[39;49m(sorter))))\n\u001b[0;32m      4\u001b[0m receita_mensal_1_semestre[\u001b[39m'\u001b[39m\u001b[39mMes_Rank\u001b[39m\u001b[39m'\u001b[39m] \u001b[39m=\u001b[39m receita_mensal_1_semestre[\u001b[39m'\u001b[39m\u001b[39mNome_Mes\u001b[39m\u001b[39m'\u001b[39m]\u001b[39m.\u001b[39mmap(sorterIndex)\n\u001b[0;32m      5\u001b[0m receita_mensal_1_semestre\u001b[39m.\u001b[39msort_values([\u001b[39m'\u001b[39m\u001b[39mMes_Rank\u001b[39m\u001b[39m'\u001b[39m], ascending\u001b[39m=\u001b[39m[\u001b[39mTrue\u001b[39;00m], inplace\u001b[39m=\u001b[39m\u001b[39mTrue\u001b[39;00m)\n",
      "\u001b[1;31mTypeError\u001b[0m: 'dict' object is not callable"
     ]
    }
   ],
   "source": [
    "sorter = ['Janeiro', 'Fevereiro', 'Março', 'Abril', 'Maio', 'Junho']\n",
    "sorterIndex = dict(zip(sorter, range(len(sorter))))\n",
    "\n",
    "receita_mensal_1_semestre['Mes_Rank'] = receita_mensal_1_semestre['Nome_Mes'].map(sorterIndex)\n",
    "receita_mensal_1_semestre.sort_values(['Mes_Rank'], ascending=[True], inplace=True)\n",
    "receita_mensal_1_semestre.drop('Mes_Rank', axis=1, inplace=True)\n",
    "receita_mensal_1_semestre.head()"
   ]
  },
  {
   "cell_type": "code",
   "execution_count": 384,
   "metadata": {},
   "outputs": [],
   "source": [
    "fig_receita_mensal = px.bar(\n",
    "                            receita_mensal_1_semestre,\n",
    "                            x = 'Nome_Mes',\n",
    "                            y = 'Receita',\n",
    "                            range_y = (0, receita_mensal_1_semestre.max()),\n",
    "                            color = 'Nome_Mes',\n",
    "                            title = 'Receita Mensal',\n",
    ")\n"
   ]
  },
  {
   "cell_type": "code",
   "execution_count": 385,
   "metadata": {},
   "outputs": [
    {
     "data": {
      "application/vnd.plotly.v1+json": {
       "config": {
        "plotlyServerURL": "https://plot.ly"
       },
       "data": [
        {
         "alignmentgroup": "True",
         "hovertemplate": "Nome_Mes=%{x}<br>Receita=%{y}<extra></extra>",
         "legendgroup": "Janeiro",
         "marker": {
          "color": "#636efa",
          "pattern": {
           "shape": ""
          }
         },
         "name": "Janeiro",
         "offsetgroup": "Janeiro",
         "orientation": "v",
         "showlegend": true,
         "textposition": "auto",
         "type": "bar",
         "x": [
          "Janeiro"
         ],
         "xaxis": "x",
         "y": [
          19307
         ],
         "yaxis": "y"
        },
        {
         "alignmentgroup": "True",
         "hovertemplate": "Nome_Mes=%{x}<br>Receita=%{y}<extra></extra>",
         "legendgroup": "Fevereiro",
         "marker": {
          "color": "#EF553B",
          "pattern": {
           "shape": ""
          }
         },
         "name": "Fevereiro",
         "offsetgroup": "Fevereiro",
         "orientation": "v",
         "showlegend": true,
         "textposition": "auto",
         "type": "bar",
         "x": [
          "Fevereiro"
         ],
         "xaxis": "x",
         "y": [
          12186.5
         ],
         "yaxis": "y"
        },
        {
         "alignmentgroup": "True",
         "hovertemplate": "Nome_Mes=%{x}<br>Receita=%{y}<extra></extra>",
         "legendgroup": "Março",
         "marker": {
          "color": "#00cc96",
          "pattern": {
           "shape": ""
          }
         },
         "name": "Março",
         "offsetgroup": "Março",
         "orientation": "v",
         "showlegend": true,
         "textposition": "auto",
         "type": "bar",
         "x": [
          "Março"
         ],
         "xaxis": "x",
         "y": [
          4775.9
         ],
         "yaxis": "y"
        },
        {
         "alignmentgroup": "True",
         "hovertemplate": "Nome_Mes=%{x}<br>Receita=%{y}<extra></extra>",
         "legendgroup": "Abril",
         "marker": {
          "color": "#ab63fa",
          "pattern": {
           "shape": ""
          }
         },
         "name": "Abril",
         "offsetgroup": "Abril",
         "orientation": "v",
         "showlegend": true,
         "textposition": "auto",
         "type": "bar",
         "x": [
          "Abril"
         ],
         "xaxis": "x",
         "y": [
          12006.5
         ],
         "yaxis": "y"
        },
        {
         "alignmentgroup": "True",
         "hovertemplate": "Nome_Mes=%{x}<br>Receita=%{y}<extra></extra>",
         "legendgroup": "Maio",
         "marker": {
          "color": "#FFA15A",
          "pattern": {
           "shape": ""
          }
         },
         "name": "Maio",
         "offsetgroup": "Maio",
         "orientation": "v",
         "showlegend": true,
         "textposition": "auto",
         "type": "bar",
         "x": [
          "Maio"
         ],
         "xaxis": "x",
         "y": [
          19655.5
         ],
         "yaxis": "y"
        },
        {
         "alignmentgroup": "True",
         "hovertemplate": "Nome_Mes=%{x}<br>Receita=%{y}<extra></extra>",
         "legendgroup": "Junho",
         "marker": {
          "color": "#19d3f3",
          "pattern": {
           "shape": ""
          }
         },
         "name": "Junho",
         "offsetgroup": "Junho",
         "orientation": "v",
         "showlegend": true,
         "textposition": "auto",
         "type": "bar",
         "x": [
          "Junho"
         ],
         "xaxis": "x",
         "y": [
          14150.5
         ],
         "yaxis": "y"
        }
       ],
       "layout": {
        "barmode": "relative",
        "legend": {
         "title": {
          "text": "Nome_Mes"
         },
         "tracegroupgap": 0
        },
        "template": {
         "data": {
          "bar": [
           {
            "error_x": {
             "color": "#2a3f5f"
            },
            "error_y": {
             "color": "#2a3f5f"
            },
            "marker": {
             "line": {
              "color": "#E5ECF6",
              "width": 0.5
             },
             "pattern": {
              "fillmode": "overlay",
              "size": 10,
              "solidity": 0.2
             }
            },
            "type": "bar"
           }
          ],
          "barpolar": [
           {
            "marker": {
             "line": {
              "color": "#E5ECF6",
              "width": 0.5
             },
             "pattern": {
              "fillmode": "overlay",
              "size": 10,
              "solidity": 0.2
             }
            },
            "type": "barpolar"
           }
          ],
          "carpet": [
           {
            "aaxis": {
             "endlinecolor": "#2a3f5f",
             "gridcolor": "white",
             "linecolor": "white",
             "minorgridcolor": "white",
             "startlinecolor": "#2a3f5f"
            },
            "baxis": {
             "endlinecolor": "#2a3f5f",
             "gridcolor": "white",
             "linecolor": "white",
             "minorgridcolor": "white",
             "startlinecolor": "#2a3f5f"
            },
            "type": "carpet"
           }
          ],
          "choropleth": [
           {
            "colorbar": {
             "outlinewidth": 0,
             "ticks": ""
            },
            "type": "choropleth"
           }
          ],
          "contour": [
           {
            "colorbar": {
             "outlinewidth": 0,
             "ticks": ""
            },
            "colorscale": [
             [
              0,
              "#0d0887"
             ],
             [
              0.1111111111111111,
              "#46039f"
             ],
             [
              0.2222222222222222,
              "#7201a8"
             ],
             [
              0.3333333333333333,
              "#9c179e"
             ],
             [
              0.4444444444444444,
              "#bd3786"
             ],
             [
              0.5555555555555556,
              "#d8576b"
             ],
             [
              0.6666666666666666,
              "#ed7953"
             ],
             [
              0.7777777777777778,
              "#fb9f3a"
             ],
             [
              0.8888888888888888,
              "#fdca26"
             ],
             [
              1,
              "#f0f921"
             ]
            ],
            "type": "contour"
           }
          ],
          "contourcarpet": [
           {
            "colorbar": {
             "outlinewidth": 0,
             "ticks": ""
            },
            "type": "contourcarpet"
           }
          ],
          "heatmap": [
           {
            "colorbar": {
             "outlinewidth": 0,
             "ticks": ""
            },
            "colorscale": [
             [
              0,
              "#0d0887"
             ],
             [
              0.1111111111111111,
              "#46039f"
             ],
             [
              0.2222222222222222,
              "#7201a8"
             ],
             [
              0.3333333333333333,
              "#9c179e"
             ],
             [
              0.4444444444444444,
              "#bd3786"
             ],
             [
              0.5555555555555556,
              "#d8576b"
             ],
             [
              0.6666666666666666,
              "#ed7953"
             ],
             [
              0.7777777777777778,
              "#fb9f3a"
             ],
             [
              0.8888888888888888,
              "#fdca26"
             ],
             [
              1,
              "#f0f921"
             ]
            ],
            "type": "heatmap"
           }
          ],
          "heatmapgl": [
           {
            "colorbar": {
             "outlinewidth": 0,
             "ticks": ""
            },
            "colorscale": [
             [
              0,
              "#0d0887"
             ],
             [
              0.1111111111111111,
              "#46039f"
             ],
             [
              0.2222222222222222,
              "#7201a8"
             ],
             [
              0.3333333333333333,
              "#9c179e"
             ],
             [
              0.4444444444444444,
              "#bd3786"
             ],
             [
              0.5555555555555556,
              "#d8576b"
             ],
             [
              0.6666666666666666,
              "#ed7953"
             ],
             [
              0.7777777777777778,
              "#fb9f3a"
             ],
             [
              0.8888888888888888,
              "#fdca26"
             ],
             [
              1,
              "#f0f921"
             ]
            ],
            "type": "heatmapgl"
           }
          ],
          "histogram": [
           {
            "marker": {
             "pattern": {
              "fillmode": "overlay",
              "size": 10,
              "solidity": 0.2
             }
            },
            "type": "histogram"
           }
          ],
          "histogram2d": [
           {
            "colorbar": {
             "outlinewidth": 0,
             "ticks": ""
            },
            "colorscale": [
             [
              0,
              "#0d0887"
             ],
             [
              0.1111111111111111,
              "#46039f"
             ],
             [
              0.2222222222222222,
              "#7201a8"
             ],
             [
              0.3333333333333333,
              "#9c179e"
             ],
             [
              0.4444444444444444,
              "#bd3786"
             ],
             [
              0.5555555555555556,
              "#d8576b"
             ],
             [
              0.6666666666666666,
              "#ed7953"
             ],
             [
              0.7777777777777778,
              "#fb9f3a"
             ],
             [
              0.8888888888888888,
              "#fdca26"
             ],
             [
              1,
              "#f0f921"
             ]
            ],
            "type": "histogram2d"
           }
          ],
          "histogram2dcontour": [
           {
            "colorbar": {
             "outlinewidth": 0,
             "ticks": ""
            },
            "colorscale": [
             [
              0,
              "#0d0887"
             ],
             [
              0.1111111111111111,
              "#46039f"
             ],
             [
              0.2222222222222222,
              "#7201a8"
             ],
             [
              0.3333333333333333,
              "#9c179e"
             ],
             [
              0.4444444444444444,
              "#bd3786"
             ],
             [
              0.5555555555555556,
              "#d8576b"
             ],
             [
              0.6666666666666666,
              "#ed7953"
             ],
             [
              0.7777777777777778,
              "#fb9f3a"
             ],
             [
              0.8888888888888888,
              "#fdca26"
             ],
             [
              1,
              "#f0f921"
             ]
            ],
            "type": "histogram2dcontour"
           }
          ],
          "mesh3d": [
           {
            "colorbar": {
             "outlinewidth": 0,
             "ticks": ""
            },
            "type": "mesh3d"
           }
          ],
          "parcoords": [
           {
            "line": {
             "colorbar": {
              "outlinewidth": 0,
              "ticks": ""
             }
            },
            "type": "parcoords"
           }
          ],
          "pie": [
           {
            "automargin": true,
            "type": "pie"
           }
          ],
          "scatter": [
           {
            "fillpattern": {
             "fillmode": "overlay",
             "size": 10,
             "solidity": 0.2
            },
            "type": "scatter"
           }
          ],
          "scatter3d": [
           {
            "line": {
             "colorbar": {
              "outlinewidth": 0,
              "ticks": ""
             }
            },
            "marker": {
             "colorbar": {
              "outlinewidth": 0,
              "ticks": ""
             }
            },
            "type": "scatter3d"
           }
          ],
          "scattercarpet": [
           {
            "marker": {
             "colorbar": {
              "outlinewidth": 0,
              "ticks": ""
             }
            },
            "type": "scattercarpet"
           }
          ],
          "scattergeo": [
           {
            "marker": {
             "colorbar": {
              "outlinewidth": 0,
              "ticks": ""
             }
            },
            "type": "scattergeo"
           }
          ],
          "scattergl": [
           {
            "marker": {
             "colorbar": {
              "outlinewidth": 0,
              "ticks": ""
             }
            },
            "type": "scattergl"
           }
          ],
          "scattermapbox": [
           {
            "marker": {
             "colorbar": {
              "outlinewidth": 0,
              "ticks": ""
             }
            },
            "type": "scattermapbox"
           }
          ],
          "scatterpolar": [
           {
            "marker": {
             "colorbar": {
              "outlinewidth": 0,
              "ticks": ""
             }
            },
            "type": "scatterpolar"
           }
          ],
          "scatterpolargl": [
           {
            "marker": {
             "colorbar": {
              "outlinewidth": 0,
              "ticks": ""
             }
            },
            "type": "scatterpolargl"
           }
          ],
          "scatterternary": [
           {
            "marker": {
             "colorbar": {
              "outlinewidth": 0,
              "ticks": ""
             }
            },
            "type": "scatterternary"
           }
          ],
          "surface": [
           {
            "colorbar": {
             "outlinewidth": 0,
             "ticks": ""
            },
            "colorscale": [
             [
              0,
              "#0d0887"
             ],
             [
              0.1111111111111111,
              "#46039f"
             ],
             [
              0.2222222222222222,
              "#7201a8"
             ],
             [
              0.3333333333333333,
              "#9c179e"
             ],
             [
              0.4444444444444444,
              "#bd3786"
             ],
             [
              0.5555555555555556,
              "#d8576b"
             ],
             [
              0.6666666666666666,
              "#ed7953"
             ],
             [
              0.7777777777777778,
              "#fb9f3a"
             ],
             [
              0.8888888888888888,
              "#fdca26"
             ],
             [
              1,
              "#f0f921"
             ]
            ],
            "type": "surface"
           }
          ],
          "table": [
           {
            "cells": {
             "fill": {
              "color": "#EBF0F8"
             },
             "line": {
              "color": "white"
             }
            },
            "header": {
             "fill": {
              "color": "#C8D4E3"
             },
             "line": {
              "color": "white"
             }
            },
            "type": "table"
           }
          ]
         },
         "layout": {
          "annotationdefaults": {
           "arrowcolor": "#2a3f5f",
           "arrowhead": 0,
           "arrowwidth": 1
          },
          "autotypenumbers": "strict",
          "coloraxis": {
           "colorbar": {
            "outlinewidth": 0,
            "ticks": ""
           }
          },
          "colorscale": {
           "diverging": [
            [
             0,
             "#8e0152"
            ],
            [
             0.1,
             "#c51b7d"
            ],
            [
             0.2,
             "#de77ae"
            ],
            [
             0.3,
             "#f1b6da"
            ],
            [
             0.4,
             "#fde0ef"
            ],
            [
             0.5,
             "#f7f7f7"
            ],
            [
             0.6,
             "#e6f5d0"
            ],
            [
             0.7,
             "#b8e186"
            ],
            [
             0.8,
             "#7fbc41"
            ],
            [
             0.9,
             "#4d9221"
            ],
            [
             1,
             "#276419"
            ]
           ],
           "sequential": [
            [
             0,
             "#0d0887"
            ],
            [
             0.1111111111111111,
             "#46039f"
            ],
            [
             0.2222222222222222,
             "#7201a8"
            ],
            [
             0.3333333333333333,
             "#9c179e"
            ],
            [
             0.4444444444444444,
             "#bd3786"
            ],
            [
             0.5555555555555556,
             "#d8576b"
            ],
            [
             0.6666666666666666,
             "#ed7953"
            ],
            [
             0.7777777777777778,
             "#fb9f3a"
            ],
            [
             0.8888888888888888,
             "#fdca26"
            ],
            [
             1,
             "#f0f921"
            ]
           ],
           "sequentialminus": [
            [
             0,
             "#0d0887"
            ],
            [
             0.1111111111111111,
             "#46039f"
            ],
            [
             0.2222222222222222,
             "#7201a8"
            ],
            [
             0.3333333333333333,
             "#9c179e"
            ],
            [
             0.4444444444444444,
             "#bd3786"
            ],
            [
             0.5555555555555556,
             "#d8576b"
            ],
            [
             0.6666666666666666,
             "#ed7953"
            ],
            [
             0.7777777777777778,
             "#fb9f3a"
            ],
            [
             0.8888888888888888,
             "#fdca26"
            ],
            [
             1,
             "#f0f921"
            ]
           ]
          },
          "colorway": [
           "#636efa",
           "#EF553B",
           "#00cc96",
           "#ab63fa",
           "#FFA15A",
           "#19d3f3",
           "#FF6692",
           "#B6E880",
           "#FF97FF",
           "#FECB52"
          ],
          "font": {
           "color": "#2a3f5f"
          },
          "geo": {
           "bgcolor": "white",
           "lakecolor": "white",
           "landcolor": "#E5ECF6",
           "showlakes": true,
           "showland": true,
           "subunitcolor": "white"
          },
          "hoverlabel": {
           "align": "left"
          },
          "hovermode": "closest",
          "mapbox": {
           "style": "light"
          },
          "paper_bgcolor": "white",
          "plot_bgcolor": "#E5ECF6",
          "polar": {
           "angularaxis": {
            "gridcolor": "white",
            "linecolor": "white",
            "ticks": ""
           },
           "bgcolor": "#E5ECF6",
           "radialaxis": {
            "gridcolor": "white",
            "linecolor": "white",
            "ticks": ""
           }
          },
          "scene": {
           "xaxis": {
            "backgroundcolor": "#E5ECF6",
            "gridcolor": "white",
            "gridwidth": 2,
            "linecolor": "white",
            "showbackground": true,
            "ticks": "",
            "zerolinecolor": "white"
           },
           "yaxis": {
            "backgroundcolor": "#E5ECF6",
            "gridcolor": "white",
            "gridwidth": 2,
            "linecolor": "white",
            "showbackground": true,
            "ticks": "",
            "zerolinecolor": "white"
           },
           "zaxis": {
            "backgroundcolor": "#E5ECF6",
            "gridcolor": "white",
            "gridwidth": 2,
            "linecolor": "white",
            "showbackground": true,
            "ticks": "",
            "zerolinecolor": "white"
           }
          },
          "shapedefaults": {
           "line": {
            "color": "#2a3f5f"
           }
          },
          "ternary": {
           "aaxis": {
            "gridcolor": "white",
            "linecolor": "white",
            "ticks": ""
           },
           "baxis": {
            "gridcolor": "white",
            "linecolor": "white",
            "ticks": ""
           },
           "bgcolor": "#E5ECF6",
           "caxis": {
            "gridcolor": "white",
            "linecolor": "white",
            "ticks": ""
           }
          },
          "title": {
           "x": 0.05
          },
          "xaxis": {
           "automargin": true,
           "gridcolor": "white",
           "linecolor": "white",
           "ticks": "",
           "title": {
            "standoff": 15
           },
           "zerolinecolor": "white",
           "zerolinewidth": 2
          },
          "yaxis": {
           "automargin": true,
           "gridcolor": "white",
           "linecolor": "white",
           "ticks": "",
           "title": {
            "standoff": 15
           },
           "zerolinecolor": "white",
           "zerolinewidth": 2
          }
         }
        },
        "title": {
         "text": "Receita Mensal"
        },
        "xaxis": {
         "anchor": "y",
         "categoryarray": [
          "Janeiro",
          "Fevereiro",
          "Março",
          "Abril",
          "Maio",
          "Junho"
         ],
         "categoryorder": "array",
         "domain": [
          0,
          1
         ],
         "title": {
          "text": "Nome_Mes"
         }
        },
        "yaxis": {
         "anchor": "x",
         "domain": [
          0,
          1
         ],
         "range": [
          0,
          [
           "Março",
           19655.5
          ]
         ],
         "title": {
          "text": "Receita"
         }
        }
       }
      }
     },
     "metadata": {},
     "output_type": "display_data"
    }
   ],
   "source": [
    "fig_receita_mensal.show()"
   ]
  },
  {
   "cell_type": "code",
   "execution_count": 386,
   "metadata": {},
   "outputs": [
    {
     "data": {
      "text/plain": [
       "17729.13333333333"
      ]
     },
     "execution_count": 386,
     "metadata": {},
     "output_type": "execute_result"
    }
   ],
   "source": [
    "valor_medio_receitas_mensais = receita_mensal_1_semestre_2023['Receita'].sum() / receita_mensal_1_semestre_2023['Receita'].count()\n",
    "valor_medio_receitas_mensais"
   ]
  },
  {
   "cell_type": "code",
   "execution_count": 387,
   "metadata": {},
   "outputs": [],
   "source": [
    "receita_estados = dataset_1_semestre_2023.groupby('Nome_Cidade')[['Receita']].sum()\n",
    "receita_estados = dataset_1_semestre_2023.drop_duplicates(subset='Nome_Cidade')\\\n",
    "                                    [['Nome_Cidade', 'Lat_Cidade', 'Long_Cidade']]\\\n",
    "                                    .merge(receita_estados, left_on='Nome_Cidade', right_index=True)\\\n",
    "                                    .sort_values('Receita', ascending=False)"
   ]
  },
  {
   "cell_type": "code",
   "execution_count": 388,
   "metadata": {},
   "outputs": [
    {
     "data": {
      "text/html": [
       "<div>\n",
       "<style scoped>\n",
       "    .dataframe tbody tr th:only-of-type {\n",
       "        vertical-align: middle;\n",
       "    }\n",
       "\n",
       "    .dataframe tbody tr th {\n",
       "        vertical-align: top;\n",
       "    }\n",
       "\n",
       "    .dataframe thead th {\n",
       "        text-align: right;\n",
       "    }\n",
       "</style>\n",
       "<table border=\"1\" class=\"dataframe\">\n",
       "  <thead>\n",
       "    <tr style=\"text-align: right;\">\n",
       "      <th></th>\n",
       "      <th>Nome_Cidade</th>\n",
       "      <th>Lat_Cidade</th>\n",
       "      <th>Long_Cidade</th>\n",
       "      <th>Receita</th>\n",
       "    </tr>\n",
       "  </thead>\n",
       "  <tbody>\n",
       "    <tr>\n",
       "      <th>5</th>\n",
       "      <td>Campo Grande</td>\n",
       "      <td>-9.95542000</td>\n",
       "      <td>-36.79260000</td>\n",
       "      <td>17240.35</td>\n",
       "    </tr>\n",
       "    <tr>\n",
       "      <th>11</th>\n",
       "      <td>Brasília</td>\n",
       "      <td>-15.77950000</td>\n",
       "      <td>-47.92970000</td>\n",
       "      <td>12577.55</td>\n",
       "    </tr>\n",
       "    <tr>\n",
       "      <th>1</th>\n",
       "      <td>Porto Alegre</td>\n",
       "      <td>-30.03180000</td>\n",
       "      <td>-51.20650000</td>\n",
       "      <td>11666.60</td>\n",
       "    </tr>\n",
       "    <tr>\n",
       "      <th>16</th>\n",
       "      <td>Campinas</td>\n",
       "      <td>-22.90530000</td>\n",
       "      <td>-47.06590000</td>\n",
       "      <td>11319.95</td>\n",
       "    </tr>\n",
       "    <tr>\n",
       "      <th>4</th>\n",
       "      <td>Curitiba</td>\n",
       "      <td>-25.41950000</td>\n",
       "      <td>-49.26460000</td>\n",
       "      <td>11086.55</td>\n",
       "    </tr>\n",
       "  </tbody>\n",
       "</table>\n",
       "</div>"
      ],
      "text/plain": [
       "     Nome_Cidade    Lat_Cidade   Long_Cidade   Receita\n",
       "5   Campo Grande   -9.95542000  -36.79260000  17240.35\n",
       "11      Brasília  -15.77950000  -47.92970000  12577.55\n",
       "1   Porto Alegre  -30.03180000  -51.20650000  11666.60\n",
       "16      Campinas  -22.90530000  -47.06590000  11319.95\n",
       "4       Curitiba  -25.41950000  -49.26460000  11086.55"
      ]
     },
     "execution_count": 388,
     "metadata": {},
     "output_type": "execute_result"
    }
   ],
   "source": [
    "receita_estados.head()"
   ]
  },
  {
   "cell_type": "code",
   "execution_count": 389,
   "metadata": {},
   "outputs": [
    {
     "data": {
      "text/plain": [
       "106374.8"
      ]
     },
     "execution_count": 389,
     "metadata": {},
     "output_type": "execute_result"
    }
   ],
   "source": [
    "receita_total = receita_estados['Receita'].sum()\n",
    "receita_total"
   ]
  },
  {
   "cell_type": "code",
   "execution_count": 390,
   "metadata": {},
   "outputs": [],
   "source": [
    "receita_estados['Percentual'] = receita_estados['Receita'] / receita_total * 100"
   ]
  },
  {
   "cell_type": "code",
   "execution_count": 391,
   "metadata": {},
   "outputs": [
    {
     "data": {
      "text/html": [
       "<div>\n",
       "<style scoped>\n",
       "    .dataframe tbody tr th:only-of-type {\n",
       "        vertical-align: middle;\n",
       "    }\n",
       "\n",
       "    .dataframe tbody tr th {\n",
       "        vertical-align: top;\n",
       "    }\n",
       "\n",
       "    .dataframe thead th {\n",
       "        text-align: right;\n",
       "    }\n",
       "</style>\n",
       "<table border=\"1\" class=\"dataframe\">\n",
       "  <thead>\n",
       "    <tr style=\"text-align: right;\">\n",
       "      <th></th>\n",
       "      <th>Nome_Cidade</th>\n",
       "      <th>Lat_Cidade</th>\n",
       "      <th>Long_Cidade</th>\n",
       "      <th>Receita</th>\n",
       "      <th>Percentual</th>\n",
       "    </tr>\n",
       "  </thead>\n",
       "  <tbody>\n",
       "    <tr>\n",
       "      <th>5</th>\n",
       "      <td>Campo Grande</td>\n",
       "      <td>-9.95542000</td>\n",
       "      <td>-36.79260000</td>\n",
       "      <td>17240.35</td>\n",
       "      <td>16.207175</td>\n",
       "    </tr>\n",
       "    <tr>\n",
       "      <th>11</th>\n",
       "      <td>Brasília</td>\n",
       "      <td>-15.77950000</td>\n",
       "      <td>-47.92970000</td>\n",
       "      <td>12577.55</td>\n",
       "      <td>11.823806</td>\n",
       "    </tr>\n",
       "    <tr>\n",
       "      <th>1</th>\n",
       "      <td>Porto Alegre</td>\n",
       "      <td>-30.03180000</td>\n",
       "      <td>-51.20650000</td>\n",
       "      <td>11666.60</td>\n",
       "      <td>10.967447</td>\n",
       "    </tr>\n",
       "    <tr>\n",
       "      <th>16</th>\n",
       "      <td>Campinas</td>\n",
       "      <td>-22.90530000</td>\n",
       "      <td>-47.06590000</td>\n",
       "      <td>11319.95</td>\n",
       "      <td>10.641571</td>\n",
       "    </tr>\n",
       "    <tr>\n",
       "      <th>4</th>\n",
       "      <td>Curitiba</td>\n",
       "      <td>-25.41950000</td>\n",
       "      <td>-49.26460000</td>\n",
       "      <td>11086.55</td>\n",
       "      <td>10.422158</td>\n",
       "    </tr>\n",
       "  </tbody>\n",
       "</table>\n",
       "</div>"
      ],
      "text/plain": [
       "     Nome_Cidade    Lat_Cidade   Long_Cidade   Receita  Percentual\n",
       "5   Campo Grande   -9.95542000  -36.79260000  17240.35   16.207175\n",
       "11      Brasília  -15.77950000  -47.92970000  12577.55   11.823806\n",
       "1   Porto Alegre  -30.03180000  -51.20650000  11666.60   10.967447\n",
       "16      Campinas  -22.90530000  -47.06590000  11319.95   10.641571\n",
       "4       Curitiba  -25.41950000  -49.26460000  11086.55   10.422158"
      ]
     },
     "execution_count": 391,
     "metadata": {},
     "output_type": "execute_result"
    }
   ],
   "source": [
    "receita_estados.head()"
   ]
  },
  {
   "cell_type": "code",
   "execution_count": 392,
   "metadata": {},
   "outputs": [
    {
     "data": {
      "text/plain": [
       "99.99999999999999"
      ]
     },
     "execution_count": 392,
     "metadata": {},
     "output_type": "execute_result"
    }
   ],
   "source": [
    "percentual_df.sum()"
   ]
  },
  {
   "cell_type": "code",
   "execution_count": 393,
   "metadata": {},
   "outputs": [],
   "source": [
    "def func(a, b):\n",
    "    return (a,b)"
   ]
  },
  {
   "cell_type": "code",
   "execution_count": 394,
   "metadata": {},
   "outputs": [],
   "source": [
    "tuple_estados = list(map(func, receita_estados['Nome_Cidade'], receita_estados['Percentual']))"
   ]
  },
  {
   "cell_type": "code",
   "execution_count": 395,
   "metadata": {},
   "outputs": [
    {
     "data": {
      "text/plain": [
       "[('Campo Grande', 16.207175007614584),\n",
       " ('Brasília', 11.82380601420637),\n",
       " ('Porto Alegre', 10.967447177338995),\n",
       " ('Campinas', 10.641571123988012),\n",
       " ('Curitiba', 10.422158255526684),\n",
       " ('São Paulo', 8.919969767275708),\n",
       " ('Belo Horizonte', 8.363399978190323),\n",
       " ('Rio de Janeiro', 8.155691009524812),\n",
       " ('Salvador', 5.541961065966752),\n",
       " ('Niterói', 3.631217167975874),\n",
       " ('Santos', 3.0294769061845472),\n",
       " ('Goiânia', 2.2961265262073347)]"
      ]
     },
     "execution_count": 395,
     "metadata": {},
     "output_type": "execute_result"
    }
   ],
   "source": [
    "tuple_estados"
   ]
  },
  {
   "cell_type": "code",
   "execution_count": 396,
   "metadata": {},
   "outputs": [
    {
     "name": "stdout",
     "output_type": "stream",
     "text": [
      "Campo Grande 16.207175007614584\n",
      "Brasília 11.82380601420637\n",
      "Porto Alegre 10.967447177338995\n",
      "Campinas 10.641571123988012\n",
      "Curitiba 10.422158255526684\n",
      "São Paulo 8.919969767275708\n",
      "Belo Horizonte 8.363399978190323\n",
      "Rio de Janeiro 8.155691009524812\n",
      "Salvador 5.541961065966752\n",
      "Niterói 3.631217167975874\n",
      "Santos 3.0294769061845472\n",
      "Goiânia 2.2961265262073347\n"
     ]
    }
   ],
   "source": [
    "for estado in tuple_estados:\n",
    "    nome, percentual = estado\n",
    "    print(nome, percentual)"
   ]
  },
  {
   "cell_type": "code",
   "execution_count": 397,
   "metadata": {},
   "outputs": [],
   "source": [
    "# connection = psycopg2.connect(host=host, database=database, user=user, password=password)\n",
    "# cursor = connection.cursor()\n",
    "\n",
    "# sql_vendas_1_trimestre = \"\"\"CREATE VIEW view_vendas_1_trimestre_2023 AS SELECT fato_vendas.quantidade_vendida,\n",
    "#                                         fato_vendas.faturamento, dim_tempo.numero_trimestre, dim_tempo.nome_do_mes,\n",
    "#                                         dim_localidade.lat_cidade, dim_localidade.long_cidade, dim_localidade.nome_cidade,\n",
    "#                                         dim_produto.cod_marca, dim_produto.cod_categoria, dim_produto.desc_produto, dim_regiao.nome_regiao\n",
    "#                             FROM fato_vendas\n",
    "#                                     INNER JOIN dim_cliente \n",
    "#                                             ON fato_vendas.sk_cliente = dim_cliente.sk_cliente\n",
    "#                                     INNER JOIN dim_localidade \n",
    "#                                             ON dim_cliente.sk_localidade = dim_localidade.sk_localidade\n",
    "#                                     INNER JOIN dim_tempo \n",
    "#                                             ON fato_vendas.sk_tempo = dim_tempo.sk_tempo\n",
    "#                                     INNER JOIN dim_produto\n",
    "#                                             ON fato_vendas.sk_produto = dim_produto.sk_produto\n",
    "#                                     INNER JOIN dim_estado\n",
    "#                                             ON dim_localidade.sk_estado = dim_estado.sk_estado\n",
    "#                                     INNER JOIN dim_regiao\n",
    "#                                             ON dim_estado.sk_regiao = dim_regiao.sk_regiao\n",
    "#                             WHERE dim_tempo.numero_trimestre = '1' AND dim_tempo.numero_ano = '2023'\"\"\"\n",
    "\n",
    "# cursor.execute(sql_vendas_1_trimestre).fetchall()\n",
    "\n",
    "# connection.close()"
   ]
  },
  {
   "cell_type": "code",
   "execution_count": null,
   "metadata": {},
   "outputs": [],
   "source": []
  },
  {
   "cell_type": "code",
   "execution_count": 398,
   "metadata": {},
   "outputs": [],
   "source": [
    "# connection = psycopg2.connect(host=host, database=database, user=user, password=password)\n",
    "# cursor = connection.cursor()\n",
    "\n",
    "# sql_vendas_2_trimestre = \"\"\"CREATE VIEW view_vendas_2_trimestre_2023 AS SELECT fato_vendas.quantidade_vendida,\n",
    "#                                         fato_vendas.faturamento, dim_tempo.numero_trimestre, dim_tempo.nome_do_mes,\n",
    "#                                         dim_localidade.lat_cidade, dim_localidade.long_cidade, dim_localidade.nome_cidade,\n",
    "#                                         dim_produto.cod_marca, dim_produto.cod_categoria, dim_produto.desc_produto, dim_regiao.nome_regiao\n",
    "#                             FROM fato_vendas\n",
    "#                                     INNER JOIN dim_cliente \n",
    "#                                             ON fato_vendas.sk_cliente = dim_cliente.sk_cliente\n",
    "#                                     INNER JOIN dim_localidade \n",
    "#                                             ON dim_cliente.sk_localidade = dim_localidade.sk_localidade\n",
    "#                                     INNER JOIN dim_tempo \n",
    "#                                             ON fato_vendas.sk_tempo = dim_tempo.sk_tempo\n",
    "                                    # INNER JOIN dim_produto\n",
    "                                    #         ON fato_vendas.sk_produto = dim_produto.sk_produto\n",
    "                                    # INNER JOIN dim_estado\n",
    "                                    #         ON dim_localidade.sk_estado = dim_estado.sk_estado\n",
    "                                    # INNER JOIN dim_regiao\n",
    "                                    #         ON dim_estado.sk_regiao = dim_regiao.sk_regiao\n",
    "#                             WHERE dim_tempo.numero_trimestre = '2' AND dim_tempo.numero_ano = '2023'\"\"\"\n",
    "\n",
    "# cursor.execute(sql_vendas_2_trimestre).fetchall()\n",
    "\n",
    "# connection.close()"
   ]
  },
  {
   "cell_type": "code",
   "execution_count": 399,
   "metadata": {},
   "outputs": [],
   "source": [
    "connection = psycopg2.connect(host=host, database=database, user=user, password=password)\n",
    "cursor = connection.cursor()\n",
    "\n",
    "sql_1_trimestre_2023 = \"\"\"SELECT * FROM view_vendas_1_trimestre_2023\"\"\"\n",
    "\n",
    "cursor.execute(sql_1_trimestre_2023)\n",
    "\n",
    "dados_vendas_1_trimestre_2023 = cursor.fetchall()\n",
    "\n",
    "connection.close()"
   ]
  },
  {
   "cell_type": "code",
   "execution_count": 400,
   "metadata": {},
   "outputs": [],
   "source": [
    "connection = psycopg2.connect(host=host, database=database, user=user, password=password)\n",
    "cursor = connection.cursor()\n",
    "\n",
    "sql_2_trimestre_2023 = \"\"\"SELECT * FROM view_vendas_2_trimestre_2023\"\"\"\n",
    "\n",
    "cursor.execute(sql_2_trimestre_2023)\n",
    "\n",
    "dados_vendas_2_trimestre_2023 = cursor.fetchall()\n",
    "\n",
    "connection.close()"
   ]
  },
  {
   "cell_type": "code",
   "execution_count": 401,
   "metadata": {},
   "outputs": [],
   "source": [
    "columns = ['Quantidade_Vendida', 'Faturamento', 'Numero_Trimestre', \n",
    "            'Nome_Mes', 'Latitude', 'Longitude',\n",
    "            'Nome_Cidade', 'Marca', 'Categoria', 'Desc_Prod', 'Nome_Regiao'\n",
    "            ]\n"
   ]
  },
  {
   "cell_type": "code",
   "execution_count": 402,
   "metadata": {},
   "outputs": [
    {
     "data": {
      "text/html": [
       "<div>\n",
       "<style scoped>\n",
       "    .dataframe tbody tr th:only-of-type {\n",
       "        vertical-align: middle;\n",
       "    }\n",
       "\n",
       "    .dataframe tbody tr th {\n",
       "        vertical-align: top;\n",
       "    }\n",
       "\n",
       "    .dataframe thead th {\n",
       "        text-align: right;\n",
       "    }\n",
       "</style>\n",
       "<table border=\"1\" class=\"dataframe\">\n",
       "  <thead>\n",
       "    <tr style=\"text-align: right;\">\n",
       "      <th></th>\n",
       "      <th>Quantidade_Vendida</th>\n",
       "      <th>Faturamento</th>\n",
       "      <th>Numero_Trimestre</th>\n",
       "      <th>Nome_Mes</th>\n",
       "      <th>Latitude</th>\n",
       "      <th>Longitude</th>\n",
       "      <th>Nome_Cidade</th>\n",
       "      <th>Marca</th>\n",
       "      <th>Categoria</th>\n",
       "      <th>Desc_Prod</th>\n",
       "      <th>Nome_Regiao</th>\n",
       "    </tr>\n",
       "  </thead>\n",
       "  <tbody>\n",
       "    <tr>\n",
       "      <th>0</th>\n",
       "      <td>8</td>\n",
       "      <td>200.0</td>\n",
       "      <td>1</td>\n",
       "      <td>Janeiro</td>\n",
       "      <td>-15.77950000</td>\n",
       "      <td>-47.92970000</td>\n",
       "      <td>Brasília</td>\n",
       "      <td>Oster</td>\n",
       "      <td>Eletrodomésticos</td>\n",
       "      <td>Máquina de Café Expresso PrimaLatte II</td>\n",
       "      <td>Centro-Oeste</td>\n",
       "    </tr>\n",
       "    <tr>\n",
       "      <th>1</th>\n",
       "      <td>10</td>\n",
       "      <td>250.0</td>\n",
       "      <td>1</td>\n",
       "      <td>Janeiro</td>\n",
       "      <td>-15.77950000</td>\n",
       "      <td>-47.92970000</td>\n",
       "      <td>Brasília</td>\n",
       "      <td>Sony</td>\n",
       "      <td>TVs e Áudio</td>\n",
       "      <td>Soundbar HT</td>\n",
       "      <td>Centro-Oeste</td>\n",
       "    </tr>\n",
       "    <tr>\n",
       "      <th>2</th>\n",
       "      <td>2</td>\n",
       "      <td>50.5</td>\n",
       "      <td>1</td>\n",
       "      <td>Janeiro</td>\n",
       "      <td>-15.77950000</td>\n",
       "      <td>-47.92970000</td>\n",
       "      <td>Brasília</td>\n",
       "      <td>JBL</td>\n",
       "      <td>Áudio</td>\n",
       "      <td>Headphone Bluetooth T450BT</td>\n",
       "      <td>Centro-Oeste</td>\n",
       "    </tr>\n",
       "    <tr>\n",
       "      <th>3</th>\n",
       "      <td>10</td>\n",
       "      <td>250.0</td>\n",
       "      <td>1</td>\n",
       "      <td>Janeiro</td>\n",
       "      <td>-15.77950000</td>\n",
       "      <td>-47.92970000</td>\n",
       "      <td>Brasília</td>\n",
       "      <td>Irobot</td>\n",
       "      <td>Eletrodomésticos</td>\n",
       "      <td>Aspirador de Pó Robô Roomba 675</td>\n",
       "      <td>Centro-Oeste</td>\n",
       "    </tr>\n",
       "    <tr>\n",
       "      <th>4</th>\n",
       "      <td>5</td>\n",
       "      <td>120.0</td>\n",
       "      <td>1</td>\n",
       "      <td>Janeiro</td>\n",
       "      <td>-15.77950000</td>\n",
       "      <td>-47.92970000</td>\n",
       "      <td>Brasília</td>\n",
       "      <td>JBL</td>\n",
       "      <td>Áudio</td>\n",
       "      <td>Caixa de Som Charge 4</td>\n",
       "      <td>Centro-Oeste</td>\n",
       "    </tr>\n",
       "  </tbody>\n",
       "</table>\n",
       "</div>"
      ],
      "text/plain": [
       "   Quantidade_Vendida  Faturamento Numero_Trimestre Nome_Mes      Latitude  \\\n",
       "0                   8        200.0                1  Janeiro  -15.77950000   \n",
       "1                  10        250.0                1  Janeiro  -15.77950000   \n",
       "2                   2         50.5                1  Janeiro  -15.77950000   \n",
       "3                  10        250.0                1  Janeiro  -15.77950000   \n",
       "4                   5        120.0                1  Janeiro  -15.77950000   \n",
       "\n",
       "      Longitude Nome_Cidade   Marca         Categoria  \\\n",
       "0  -47.92970000    Brasília   Oster  Eletrodomésticos   \n",
       "1  -47.92970000    Brasília    Sony       TVs e Áudio   \n",
       "2  -47.92970000    Brasília     JBL             Áudio   \n",
       "3  -47.92970000    Brasília  Irobot  Eletrodomésticos   \n",
       "4  -47.92970000    Brasília     JBL             Áudio   \n",
       "\n",
       "                                Desc_Prod   Nome_Regiao  \n",
       "0  Máquina de Café Expresso PrimaLatte II  Centro-Oeste  \n",
       "1                             Soundbar HT  Centro-Oeste  \n",
       "2              Headphone Bluetooth T450BT  Centro-Oeste  \n",
       "3         Aspirador de Pó Robô Roomba 675  Centro-Oeste  \n",
       "4                   Caixa de Som Charge 4  Centro-Oeste  "
      ]
     },
     "execution_count": 402,
     "metadata": {},
     "output_type": "execute_result"
    }
   ],
   "source": [
    "dataset_vendas_1_trimestre_2023 = pd.DataFrame(dados_vendas_1_trimestre_2023, columns=columns)\n",
    "dataset_vendas_1_trimestre_2023.head()"
   ]
  },
  {
   "cell_type": "code",
   "execution_count": 403,
   "metadata": {},
   "outputs": [
    {
     "data": {
      "text/html": [
       "<div>\n",
       "<style scoped>\n",
       "    .dataframe tbody tr th:only-of-type {\n",
       "        vertical-align: middle;\n",
       "    }\n",
       "\n",
       "    .dataframe tbody tr th {\n",
       "        vertical-align: top;\n",
       "    }\n",
       "\n",
       "    .dataframe thead th {\n",
       "        text-align: right;\n",
       "    }\n",
       "</style>\n",
       "<table border=\"1\" class=\"dataframe\">\n",
       "  <thead>\n",
       "    <tr style=\"text-align: right;\">\n",
       "      <th></th>\n",
       "      <th>Quantidade_Vendida</th>\n",
       "      <th>Faturamento</th>\n",
       "      <th>Numero_Trimestre</th>\n",
       "      <th>Nome_Mes</th>\n",
       "      <th>Latitude</th>\n",
       "      <th>Longitude</th>\n",
       "      <th>Nome_Cidade</th>\n",
       "      <th>Marca</th>\n",
       "      <th>Categoria</th>\n",
       "      <th>Desc_Prod</th>\n",
       "      <th>Nome_Regiao</th>\n",
       "    </tr>\n",
       "  </thead>\n",
       "  <tbody>\n",
       "    <tr>\n",
       "      <th>0</th>\n",
       "      <td>3</td>\n",
       "      <td>90.50</td>\n",
       "      <td>2</td>\n",
       "      <td>Abril</td>\n",
       "      <td>-15.77950000</td>\n",
       "      <td>-47.92970000</td>\n",
       "      <td>Brasília</td>\n",
       "      <td>JBL</td>\n",
       "      <td>Áudio</td>\n",
       "      <td>Headphone Bluetooth T450BT</td>\n",
       "      <td>Centro-Oeste</td>\n",
       "    </tr>\n",
       "    <tr>\n",
       "      <th>1</th>\n",
       "      <td>3</td>\n",
       "      <td>90.50</td>\n",
       "      <td>2</td>\n",
       "      <td>Maio</td>\n",
       "      <td>-15.77950000</td>\n",
       "      <td>-47.92970000</td>\n",
       "      <td>Brasília</td>\n",
       "      <td>Epson</td>\n",
       "      <td>Informática</td>\n",
       "      <td>Impressora Multifuncional L3150</td>\n",
       "      <td>Centro-Oeste</td>\n",
       "    </tr>\n",
       "    <tr>\n",
       "      <th>2</th>\n",
       "      <td>4</td>\n",
       "      <td>70.75</td>\n",
       "      <td>2</td>\n",
       "      <td>Abril</td>\n",
       "      <td>-15.77950000</td>\n",
       "      <td>-47.92970000</td>\n",
       "      <td>Brasília</td>\n",
       "      <td>Amazon</td>\n",
       "      <td>Smart Home</td>\n",
       "      <td>Alexa Echo Studio</td>\n",
       "      <td>Centro-Oeste</td>\n",
       "    </tr>\n",
       "    <tr>\n",
       "      <th>3</th>\n",
       "      <td>8</td>\n",
       "      <td>200.00</td>\n",
       "      <td>2</td>\n",
       "      <td>Junho</td>\n",
       "      <td>-15.77950000</td>\n",
       "      <td>-47.92970000</td>\n",
       "      <td>Brasília</td>\n",
       "      <td>Amazon</td>\n",
       "      <td>Smart Home</td>\n",
       "      <td>Alexa Echo Show 5</td>\n",
       "      <td>Centro-Oeste</td>\n",
       "    </tr>\n",
       "    <tr>\n",
       "      <th>4</th>\n",
       "      <td>4</td>\n",
       "      <td>100.50</td>\n",
       "      <td>2</td>\n",
       "      <td>Maio</td>\n",
       "      <td>-15.77950000</td>\n",
       "      <td>-47.92970000</td>\n",
       "      <td>Brasília</td>\n",
       "      <td>JBL</td>\n",
       "      <td>Áudio</td>\n",
       "      <td>Caixa de Som Portátil Flip 5</td>\n",
       "      <td>Centro-Oeste</td>\n",
       "    </tr>\n",
       "  </tbody>\n",
       "</table>\n",
       "</div>"
      ],
      "text/plain": [
       "   Quantidade_Vendida  Faturamento Numero_Trimestre Nome_Mes      Latitude  \\\n",
       "0                   3        90.50                2    Abril  -15.77950000   \n",
       "1                   3        90.50                2     Maio  -15.77950000   \n",
       "2                   4        70.75                2    Abril  -15.77950000   \n",
       "3                   8       200.00                2    Junho  -15.77950000   \n",
       "4                   4       100.50                2     Maio  -15.77950000   \n",
       "\n",
       "      Longitude Nome_Cidade   Marca    Categoria  \\\n",
       "0  -47.92970000    Brasília     JBL        Áudio   \n",
       "1  -47.92970000    Brasília   Epson  Informática   \n",
       "2  -47.92970000    Brasília  Amazon   Smart Home   \n",
       "3  -47.92970000    Brasília  Amazon   Smart Home   \n",
       "4  -47.92970000    Brasília     JBL        Áudio   \n",
       "\n",
       "                         Desc_Prod   Nome_Regiao  \n",
       "0       Headphone Bluetooth T450BT  Centro-Oeste  \n",
       "1  Impressora Multifuncional L3150  Centro-Oeste  \n",
       "2                Alexa Echo Studio  Centro-Oeste  \n",
       "3                Alexa Echo Show 5  Centro-Oeste  \n",
       "4     Caixa de Som Portátil Flip 5  Centro-Oeste  "
      ]
     },
     "execution_count": 403,
     "metadata": {},
     "output_type": "execute_result"
    }
   ],
   "source": [
    "dataset_vendas_2_trimestre_2023 = pd.DataFrame(dados_vendas_2_trimestre_2023, columns=columns)\n",
    "dataset_vendas_2_trimestre_2023.head()"
   ]
  },
  {
   "cell_type": "code",
   "execution_count": 404,
   "metadata": {},
   "outputs": [
    {
     "data": {
      "text/plain": [
       "2152"
      ]
     },
     "execution_count": 404,
     "metadata": {},
     "output_type": "execute_result"
    }
   ],
   "source": [
    "dataset_vendas_1_trimestre_2023['Quantidade_Vendida'].sum()"
   ]
  },
  {
   "cell_type": "code",
   "execution_count": 405,
   "metadata": {},
   "outputs": [
    {
     "data": {
      "text/plain": [
       "2297"
      ]
     },
     "execution_count": 405,
     "metadata": {},
     "output_type": "execute_result"
    }
   ],
   "source": [
    "dataset_vendas_2_trimestre_2023['Quantidade_Vendida'].sum()"
   ]
  },
  {
   "cell_type": "code",
   "execution_count": 406,
   "metadata": {},
   "outputs": [
    {
     "data": {
      "text/plain": [
       "135.66313725490198"
      ]
     },
     "execution_count": 406,
     "metadata": {},
     "output_type": "execute_result"
    }
   ],
   "source": [
    "dataset_vendas_1_trimestre_2023['Faturamento'].mean()"
   ]
  },
  {
   "cell_type": "code",
   "execution_count": 407,
   "metadata": {},
   "outputs": [
    {
     "data": {
      "text/plain": [
       "138.02903225806452"
      ]
     },
     "execution_count": 407,
     "metadata": {},
     "output_type": "execute_result"
    }
   ],
   "source": [
    "dataset_vendas_2_trimestre_2023['Faturamento'].mean()"
   ]
  },
  {
   "cell_type": "code",
   "execution_count": 408,
   "metadata": {},
   "outputs": [
    {
     "data": {
      "text/html": [
       "<div>\n",
       "<style scoped>\n",
       "    .dataframe tbody tr th:only-of-type {\n",
       "        vertical-align: middle;\n",
       "    }\n",
       "\n",
       "    .dataframe tbody tr th {\n",
       "        vertical-align: top;\n",
       "    }\n",
       "\n",
       "    .dataframe thead th {\n",
       "        text-align: right;\n",
       "    }\n",
       "</style>\n",
       "<table border=\"1\" class=\"dataframe\">\n",
       "  <thead>\n",
       "    <tr style=\"text-align: right;\">\n",
       "      <th></th>\n",
       "      <th>Quantidade_Vendida</th>\n",
       "      <th>Faturamento</th>\n",
       "      <th>Numero_Trimestre</th>\n",
       "      <th>Nome_Mes</th>\n",
       "      <th>Latitude</th>\n",
       "      <th>Longitude</th>\n",
       "      <th>Nome_Cidade</th>\n",
       "      <th>Marca</th>\n",
       "      <th>Categoria</th>\n",
       "      <th>Desc_Prod</th>\n",
       "      <th>Nome_Regiao</th>\n",
       "    </tr>\n",
       "  </thead>\n",
       "  <tbody>\n",
       "    <tr>\n",
       "      <th>0</th>\n",
       "      <td>8</td>\n",
       "      <td>200.0</td>\n",
       "      <td>1</td>\n",
       "      <td>Janeiro</td>\n",
       "      <td>-15.77950000</td>\n",
       "      <td>-47.92970000</td>\n",
       "      <td>Brasília</td>\n",
       "      <td>Oster</td>\n",
       "      <td>Eletrodomésticos</td>\n",
       "      <td>Máquina de Café Expresso PrimaLatte II</td>\n",
       "      <td>Centro-Oeste</td>\n",
       "    </tr>\n",
       "    <tr>\n",
       "      <th>1</th>\n",
       "      <td>10</td>\n",
       "      <td>250.0</td>\n",
       "      <td>1</td>\n",
       "      <td>Janeiro</td>\n",
       "      <td>-15.77950000</td>\n",
       "      <td>-47.92970000</td>\n",
       "      <td>Brasília</td>\n",
       "      <td>Sony</td>\n",
       "      <td>TVs e Áudio</td>\n",
       "      <td>Soundbar HT</td>\n",
       "      <td>Centro-Oeste</td>\n",
       "    </tr>\n",
       "    <tr>\n",
       "      <th>2</th>\n",
       "      <td>2</td>\n",
       "      <td>50.5</td>\n",
       "      <td>1</td>\n",
       "      <td>Janeiro</td>\n",
       "      <td>-15.77950000</td>\n",
       "      <td>-47.92970000</td>\n",
       "      <td>Brasília</td>\n",
       "      <td>JBL</td>\n",
       "      <td>Áudio</td>\n",
       "      <td>Headphone Bluetooth T450BT</td>\n",
       "      <td>Centro-Oeste</td>\n",
       "    </tr>\n",
       "    <tr>\n",
       "      <th>3</th>\n",
       "      <td>10</td>\n",
       "      <td>250.0</td>\n",
       "      <td>1</td>\n",
       "      <td>Janeiro</td>\n",
       "      <td>-15.77950000</td>\n",
       "      <td>-47.92970000</td>\n",
       "      <td>Brasília</td>\n",
       "      <td>Irobot</td>\n",
       "      <td>Eletrodomésticos</td>\n",
       "      <td>Aspirador de Pó Robô Roomba 675</td>\n",
       "      <td>Centro-Oeste</td>\n",
       "    </tr>\n",
       "    <tr>\n",
       "      <th>4</th>\n",
       "      <td>5</td>\n",
       "      <td>120.0</td>\n",
       "      <td>1</td>\n",
       "      <td>Janeiro</td>\n",
       "      <td>-15.77950000</td>\n",
       "      <td>-47.92970000</td>\n",
       "      <td>Brasília</td>\n",
       "      <td>JBL</td>\n",
       "      <td>Áudio</td>\n",
       "      <td>Caixa de Som Charge 4</td>\n",
       "      <td>Centro-Oeste</td>\n",
       "    </tr>\n",
       "  </tbody>\n",
       "</table>\n",
       "</div>"
      ],
      "text/plain": [
       "   Quantidade_Vendida  Faturamento Numero_Trimestre Nome_Mes      Latitude  \\\n",
       "0                   8        200.0                1  Janeiro  -15.77950000   \n",
       "1                  10        250.0                1  Janeiro  -15.77950000   \n",
       "2                   2         50.5                1  Janeiro  -15.77950000   \n",
       "3                  10        250.0                1  Janeiro  -15.77950000   \n",
       "4                   5        120.0                1  Janeiro  -15.77950000   \n",
       "\n",
       "      Longitude Nome_Cidade   Marca         Categoria  \\\n",
       "0  -47.92970000    Brasília   Oster  Eletrodomésticos   \n",
       "1  -47.92970000    Brasília    Sony       TVs e Áudio   \n",
       "2  -47.92970000    Brasília     JBL             Áudio   \n",
       "3  -47.92970000    Brasília  Irobot  Eletrodomésticos   \n",
       "4  -47.92970000    Brasília     JBL             Áudio   \n",
       "\n",
       "                                Desc_Prod   Nome_Regiao  \n",
       "0  Máquina de Café Expresso PrimaLatte II  Centro-Oeste  \n",
       "1                             Soundbar HT  Centro-Oeste  \n",
       "2              Headphone Bluetooth T450BT  Centro-Oeste  \n",
       "3         Aspirador de Pó Robô Roomba 675  Centro-Oeste  \n",
       "4                   Caixa de Som Charge 4  Centro-Oeste  "
      ]
     },
     "execution_count": 408,
     "metadata": {},
     "output_type": "execute_result"
    }
   ],
   "source": [
    "dataset_vendas_1_semestre_2023 = pd.concat([dataset_vendas_1_trimestre_2023, dataset_vendas_2_trimestre_2023])\n",
    "dataset_vendas_1_semestre_2023.head()"
   ]
  },
  {
   "cell_type": "code",
   "execution_count": 409,
   "metadata": {},
   "outputs": [
    {
     "data": {
      "text/html": [
       "<div>\n",
       "<style scoped>\n",
       "    .dataframe tbody tr th:only-of-type {\n",
       "        vertical-align: middle;\n",
       "    }\n",
       "\n",
       "    .dataframe tbody tr th {\n",
       "        vertical-align: top;\n",
       "    }\n",
       "\n",
       "    .dataframe thead th {\n",
       "        text-align: right;\n",
       "    }\n",
       "</style>\n",
       "<table border=\"1\" class=\"dataframe\">\n",
       "  <thead>\n",
       "    <tr style=\"text-align: right;\">\n",
       "      <th></th>\n",
       "      <th>Categoria</th>\n",
       "      <th>Faturamento</th>\n",
       "    </tr>\n",
       "  </thead>\n",
       "  <tbody>\n",
       "    <tr>\n",
       "      <th>0</th>\n",
       "      <td>Eletrodomésticos</td>\n",
       "      <td>60639.75</td>\n",
       "    </tr>\n",
       "    <tr>\n",
       "      <th>4</th>\n",
       "      <td>Smart Home</td>\n",
       "      <td>25910.30</td>\n",
       "    </tr>\n",
       "    <tr>\n",
       "      <th>5</th>\n",
       "      <td>TVs e Áudio</td>\n",
       "      <td>23264.55</td>\n",
       "    </tr>\n",
       "    <tr>\n",
       "      <th>2</th>\n",
       "      <td>Informática</td>\n",
       "      <td>12241.85</td>\n",
       "    </tr>\n",
       "    <tr>\n",
       "      <th>6</th>\n",
       "      <td>Áudio</td>\n",
       "      <td>9540.00</td>\n",
       "    </tr>\n",
       "  </tbody>\n",
       "</table>\n",
       "</div>"
      ],
      "text/plain": [
       "          Categoria  Faturamento\n",
       "0  Eletrodomésticos     60639.75\n",
       "4        Smart Home     25910.30\n",
       "5       TVs e Áudio     23264.55\n",
       "2       Informática     12241.85\n",
       "6             Áudio      9540.00"
      ]
     },
     "execution_count": 409,
     "metadata": {},
     "output_type": "execute_result"
    }
   ],
   "source": [
    "faturamento_categoria = dataset_vendas_1_semestre_2023.groupby('Categoria')[['Faturamento']]\\\n",
    "                            .sum().reset_index().sort_values('Faturamento', ascending=False)\n",
    "faturamento_categoria.head()"
   ]
  },
  {
   "cell_type": "code",
   "execution_count": 410,
   "metadata": {},
   "outputs": [
    {
     "data": {
      "text/html": [
       "<div>\n",
       "<style scoped>\n",
       "    .dataframe tbody tr th:only-of-type {\n",
       "        vertical-align: middle;\n",
       "    }\n",
       "\n",
       "    .dataframe tbody tr th {\n",
       "        vertical-align: top;\n",
       "    }\n",
       "\n",
       "    .dataframe thead th {\n",
       "        text-align: right;\n",
       "    }\n",
       "</style>\n",
       "<table border=\"1\" class=\"dataframe\">\n",
       "  <thead>\n",
       "    <tr style=\"text-align: right;\">\n",
       "      <th></th>\n",
       "      <th>Categoria</th>\n",
       "      <th>Quantidade_Vendida</th>\n",
       "    </tr>\n",
       "  </thead>\n",
       "  <tbody>\n",
       "    <tr>\n",
       "      <th>0</th>\n",
       "      <td>Eletrodomésticos</td>\n",
       "      <td>1955</td>\n",
       "    </tr>\n",
       "    <tr>\n",
       "      <th>4</th>\n",
       "      <td>Smart Home</td>\n",
       "      <td>835</td>\n",
       "    </tr>\n",
       "    <tr>\n",
       "      <th>5</th>\n",
       "      <td>TVs e Áudio</td>\n",
       "      <td>766</td>\n",
       "    </tr>\n",
       "    <tr>\n",
       "      <th>2</th>\n",
       "      <td>Informática</td>\n",
       "      <td>410</td>\n",
       "    </tr>\n",
       "    <tr>\n",
       "      <th>6</th>\n",
       "      <td>Áudio</td>\n",
       "      <td>300</td>\n",
       "    </tr>\n",
       "  </tbody>\n",
       "</table>\n",
       "</div>"
      ],
      "text/plain": [
       "          Categoria  Quantidade_Vendida\n",
       "0  Eletrodomésticos                1955\n",
       "4        Smart Home                 835\n",
       "5       TVs e Áudio                 766\n",
       "2       Informática                 410\n",
       "6             Áudio                 300"
      ]
     },
     "execution_count": 410,
     "metadata": {},
     "output_type": "execute_result"
    }
   ],
   "source": [
    "qtd_vendida_categoria = dataset_vendas_1_semestre_2023.groupby('Categoria')[['Quantidade_Vendida']]\\\n",
    "                            .sum().reset_index().sort_values('Quantidade_Vendida', ascending=False)\n",
    "qtd_vendida_categoria.head()"
   ]
  },
  {
   "cell_type": "code",
   "execution_count": 411,
   "metadata": {},
   "outputs": [
    {
     "data": {
      "text/html": [
       "<div>\n",
       "<style scoped>\n",
       "    .dataframe tbody tr th:only-of-type {\n",
       "        vertical-align: middle;\n",
       "    }\n",
       "\n",
       "    .dataframe tbody tr th {\n",
       "        vertical-align: top;\n",
       "    }\n",
       "\n",
       "    .dataframe thead th {\n",
       "        text-align: right;\n",
       "    }\n",
       "</style>\n",
       "<table border=\"1\" class=\"dataframe\">\n",
       "  <thead>\n",
       "    <tr style=\"text-align: right;\">\n",
       "      <th></th>\n",
       "      <th>Quantidade_Vendida</th>\n",
       "      <th>Faturamento</th>\n",
       "      <th>Numero_Trimestre</th>\n",
       "      <th>Nome_Mes</th>\n",
       "      <th>Latitude</th>\n",
       "      <th>Longitude</th>\n",
       "      <th>Nome_Cidade</th>\n",
       "      <th>Marca</th>\n",
       "      <th>Categoria</th>\n",
       "      <th>Desc_Prod</th>\n",
       "      <th>Nome_Regiao</th>\n",
       "    </tr>\n",
       "  </thead>\n",
       "  <tbody>\n",
       "    <tr>\n",
       "      <th>0</th>\n",
       "      <td>8</td>\n",
       "      <td>200.0</td>\n",
       "      <td>1</td>\n",
       "      <td>Janeiro</td>\n",
       "      <td>-15.77950000</td>\n",
       "      <td>-47.92970000</td>\n",
       "      <td>Brasília</td>\n",
       "      <td>Oster</td>\n",
       "      <td>Eletrodomésticos</td>\n",
       "      <td>Máquina de Café Expresso PrimaLatte II</td>\n",
       "      <td>Centro-Oeste</td>\n",
       "    </tr>\n",
       "    <tr>\n",
       "      <th>1</th>\n",
       "      <td>10</td>\n",
       "      <td>250.0</td>\n",
       "      <td>1</td>\n",
       "      <td>Janeiro</td>\n",
       "      <td>-15.77950000</td>\n",
       "      <td>-47.92970000</td>\n",
       "      <td>Brasília</td>\n",
       "      <td>Sony</td>\n",
       "      <td>TVs e Áudio</td>\n",
       "      <td>Soundbar HT</td>\n",
       "      <td>Centro-Oeste</td>\n",
       "    </tr>\n",
       "    <tr>\n",
       "      <th>2</th>\n",
       "      <td>2</td>\n",
       "      <td>50.5</td>\n",
       "      <td>1</td>\n",
       "      <td>Janeiro</td>\n",
       "      <td>-15.77950000</td>\n",
       "      <td>-47.92970000</td>\n",
       "      <td>Brasília</td>\n",
       "      <td>JBL</td>\n",
       "      <td>Áudio</td>\n",
       "      <td>Headphone Bluetooth T450BT</td>\n",
       "      <td>Centro-Oeste</td>\n",
       "    </tr>\n",
       "    <tr>\n",
       "      <th>3</th>\n",
       "      <td>10</td>\n",
       "      <td>250.0</td>\n",
       "      <td>1</td>\n",
       "      <td>Janeiro</td>\n",
       "      <td>-15.77950000</td>\n",
       "      <td>-47.92970000</td>\n",
       "      <td>Brasília</td>\n",
       "      <td>Irobot</td>\n",
       "      <td>Eletrodomésticos</td>\n",
       "      <td>Aspirador de Pó Robô Roomba 675</td>\n",
       "      <td>Centro-Oeste</td>\n",
       "    </tr>\n",
       "    <tr>\n",
       "      <th>4</th>\n",
       "      <td>5</td>\n",
       "      <td>120.0</td>\n",
       "      <td>1</td>\n",
       "      <td>Janeiro</td>\n",
       "      <td>-15.77950000</td>\n",
       "      <td>-47.92970000</td>\n",
       "      <td>Brasília</td>\n",
       "      <td>JBL</td>\n",
       "      <td>Áudio</td>\n",
       "      <td>Caixa de Som Charge 4</td>\n",
       "      <td>Centro-Oeste</td>\n",
       "    </tr>\n",
       "  </tbody>\n",
       "</table>\n",
       "</div>"
      ],
      "text/plain": [
       "   Quantidade_Vendida  Faturamento Numero_Trimestre Nome_Mes      Latitude  \\\n",
       "0                   8        200.0                1  Janeiro  -15.77950000   \n",
       "1                  10        250.0                1  Janeiro  -15.77950000   \n",
       "2                   2         50.5                1  Janeiro  -15.77950000   \n",
       "3                  10        250.0                1  Janeiro  -15.77950000   \n",
       "4                   5        120.0                1  Janeiro  -15.77950000   \n",
       "\n",
       "      Longitude Nome_Cidade   Marca         Categoria  \\\n",
       "0  -47.92970000    Brasília   Oster  Eletrodomésticos   \n",
       "1  -47.92970000    Brasília    Sony       TVs e Áudio   \n",
       "2  -47.92970000    Brasília     JBL             Áudio   \n",
       "3  -47.92970000    Brasília  Irobot  Eletrodomésticos   \n",
       "4  -47.92970000    Brasília     JBL             Áudio   \n",
       "\n",
       "                                Desc_Prod   Nome_Regiao  \n",
       "0  Máquina de Café Expresso PrimaLatte II  Centro-Oeste  \n",
       "1                             Soundbar HT  Centro-Oeste  \n",
       "2              Headphone Bluetooth T450BT  Centro-Oeste  \n",
       "3         Aspirador de Pó Robô Roomba 675  Centro-Oeste  \n",
       "4                   Caixa de Som Charge 4  Centro-Oeste  "
      ]
     },
     "execution_count": 411,
     "metadata": {},
     "output_type": "execute_result"
    }
   ],
   "source": [
    "dataset_vendas_1_semestre_2023.head()"
   ]
  },
  {
   "cell_type": "code",
   "execution_count": 412,
   "metadata": {},
   "outputs": [
    {
     "data": {
      "text/html": [
       "<div>\n",
       "<style scoped>\n",
       "    .dataframe tbody tr th:only-of-type {\n",
       "        vertical-align: middle;\n",
       "    }\n",
       "\n",
       "    .dataframe tbody tr th {\n",
       "        vertical-align: top;\n",
       "    }\n",
       "\n",
       "    .dataframe thead th {\n",
       "        text-align: right;\n",
       "    }\n",
       "</style>\n",
       "<table border=\"1\" class=\"dataframe\">\n",
       "  <thead>\n",
       "    <tr style=\"text-align: right;\">\n",
       "      <th></th>\n",
       "      <th>Nome_Cidade</th>\n",
       "      <th>Latitude</th>\n",
       "      <th>Longitude</th>\n",
       "      <th>Quantidade_Vendida</th>\n",
       "    </tr>\n",
       "  </thead>\n",
       "  <tbody>\n",
       "    <tr>\n",
       "      <th>142</th>\n",
       "      <td>Campo Grande</td>\n",
       "      <td>-9.95542000</td>\n",
       "      <td>-36.79260000</td>\n",
       "      <td>759</td>\n",
       "    </tr>\n",
       "    <tr>\n",
       "      <th>0</th>\n",
       "      <td>Brasília</td>\n",
       "      <td>-15.77950000</td>\n",
       "      <td>-47.92970000</td>\n",
       "      <td>564</td>\n",
       "    </tr>\n",
       "    <tr>\n",
       "      <th>373</th>\n",
       "      <td>Porto Alegre</td>\n",
       "      <td>-30.03180000</td>\n",
       "      <td>-51.20650000</td>\n",
       "      <td>489</td>\n",
       "    </tr>\n",
       "    <tr>\n",
       "      <th>283</th>\n",
       "      <td>Curitiba</td>\n",
       "      <td>-25.41950000</td>\n",
       "      <td>-49.26460000</td>\n",
       "      <td>480</td>\n",
       "    </tr>\n",
       "    <tr>\n",
       "      <th>88</th>\n",
       "      <td>Campinas</td>\n",
       "      <td>-22.90530000</td>\n",
       "      <td>-47.06590000</td>\n",
       "      <td>468</td>\n",
       "    </tr>\n",
       "  </tbody>\n",
       "</table>\n",
       "</div>"
      ],
      "text/plain": [
       "      Nome_Cidade      Latitude     Longitude  Quantidade_Vendida\n",
       "142  Campo Grande   -9.95542000  -36.79260000                 759\n",
       "0        Brasília  -15.77950000  -47.92970000                 564\n",
       "373  Porto Alegre  -30.03180000  -51.20650000                 489\n",
       "283      Curitiba  -25.41950000  -49.26460000                 480\n",
       "88       Campinas  -22.90530000  -47.06590000                 468"
      ]
     },
     "execution_count": 412,
     "metadata": {},
     "output_type": "execute_result"
    }
   ],
   "source": [
    "qtd_vendida_cidades = dataset_vendas_1_semestre_2023.groupby('Nome_Cidade')[['Quantidade_Vendida']].sum()\n",
    "qtd_vendida_cidades = dataset_vendas_1_semestre_2023.drop_duplicates(subset='Nome_Cidade')\\\n",
    "                                    [['Nome_Cidade', 'Latitude', 'Longitude']]\\\n",
    "                                    .merge(qtd_vendida_cidades, left_on='Nome_Cidade', right_index=True)\\\n",
    "                                    .sort_values('Quantidade_Vendida', ascending=False)\n",
    "qtd_vendida_cidades.head()"
   ]
  },
  {
   "cell_type": "code",
   "execution_count": 413,
   "metadata": {},
   "outputs": [],
   "source": [
    "top5_produtos_vendidos = dataset_vendas_1_semestre_2023.groupby('Desc_Prod')[['Quantidade_Vendida']].sum()\n",
    "top5_produtos_vendidos = dataset_vendas_1_semestre_2023.drop_duplicates(subset='Desc_Prod')\\\n",
    "                                    [['Desc_Prod', 'Marca', 'Categoria']]\\\n",
    "                                    .merge(top5_produtos_vendidos, left_on='Desc_Prod', right_index=True)\\\n",
    "                                    .sort_values('Quantidade_Vendida', ascending=False)"
   ]
  },
  {
   "cell_type": "code",
   "execution_count": 414,
   "metadata": {},
   "outputs": [],
   "source": [
    "top5_produtos_vendidos = top5_produtos_vendidos.head()"
   ]
  },
  {
   "cell_type": "code",
   "execution_count": 415,
   "metadata": {},
   "outputs": [
    {
     "data": {
      "text/html": [
       "<div>\n",
       "<style scoped>\n",
       "    .dataframe tbody tr th:only-of-type {\n",
       "        vertical-align: middle;\n",
       "    }\n",
       "\n",
       "    .dataframe tbody tr th {\n",
       "        vertical-align: top;\n",
       "    }\n",
       "\n",
       "    .dataframe thead th {\n",
       "        text-align: right;\n",
       "    }\n",
       "</style>\n",
       "<table border=\"1\" class=\"dataframe\">\n",
       "  <thead>\n",
       "    <tr style=\"text-align: right;\">\n",
       "      <th></th>\n",
       "      <th>Desc_Prod</th>\n",
       "      <th>Marca</th>\n",
       "      <th>Categoria</th>\n",
       "      <th>Quantidade_Vendida</th>\n",
       "    </tr>\n",
       "  </thead>\n",
       "  <tbody>\n",
       "    <tr>\n",
       "      <th>1</th>\n",
       "      <td>Soundbar HT</td>\n",
       "      <td>Sony</td>\n",
       "      <td>TVs e Áudio</td>\n",
       "      <td>219</td>\n",
       "    </tr>\n",
       "    <tr>\n",
       "      <th>261</th>\n",
       "      <td>Cafeteira Dolce Gusto Mini Me</td>\n",
       "      <td>Nescafé</td>\n",
       "      <td>Eletrodomésticos</td>\n",
       "      <td>194</td>\n",
       "    </tr>\n",
       "    <tr>\n",
       "      <th>25</th>\n",
       "      <td>Alexa Echo Show 5</td>\n",
       "      <td>Amazon</td>\n",
       "      <td>Smart Home</td>\n",
       "      <td>194</td>\n",
       "    </tr>\n",
       "    <tr>\n",
       "      <th>8</th>\n",
       "      <td>Geladeira Frost Free 380L</td>\n",
       "      <td>Brastemp</td>\n",
       "      <td>Eletrodomésticos</td>\n",
       "      <td>187</td>\n",
       "    </tr>\n",
       "    <tr>\n",
       "      <th>11</th>\n",
       "      <td>Churrasqueira Elétrica</td>\n",
       "      <td>Britânia</td>\n",
       "      <td>Eletrodomésticos</td>\n",
       "      <td>178</td>\n",
       "    </tr>\n",
       "  </tbody>\n",
       "</table>\n",
       "</div>"
      ],
      "text/plain": [
       "                         Desc_Prod     Marca         Categoria  \\\n",
       "1                      Soundbar HT      Sony       TVs e Áudio   \n",
       "261  Cafeteira Dolce Gusto Mini Me   Nescafé  Eletrodomésticos   \n",
       "25               Alexa Echo Show 5    Amazon        Smart Home   \n",
       "8        Geladeira Frost Free 380L  Brastemp  Eletrodomésticos   \n",
       "11          Churrasqueira Elétrica  Britânia  Eletrodomésticos   \n",
       "\n",
       "     Quantidade_Vendida  \n",
       "1                   219  \n",
       "261                 194  \n",
       "25                  194  \n",
       "8                   187  \n",
       "11                  178  "
      ]
     },
     "execution_count": 415,
     "metadata": {},
     "output_type": "execute_result"
    }
   ],
   "source": [
    "top5_produtos_vendidos"
   ]
  },
  {
   "cell_type": "code",
   "execution_count": 416,
   "metadata": {},
   "outputs": [],
   "source": [
    "def func(a, b, c, d):\n",
    "    return (a,b,c,d)"
   ]
  },
  {
   "cell_type": "code",
   "execution_count": 417,
   "metadata": {},
   "outputs": [],
   "source": [
    "top5_produtos_vendidos = list(map(lambda a, b, c, d: (a,b,c,d), top5_produtos_vendidos['Desc_Prod'], top5_produtos_vendidos['Marca'], top5_produtos_vendidos['Categoria'], top5_produtos_vendidos['Quantidade_Vendida']))"
   ]
  },
  {
   "cell_type": "code",
   "execution_count": 418,
   "metadata": {},
   "outputs": [
    {
     "name": "stdout",
     "output_type": "stream",
     "text": [
      "Soundbar HT Sony TVs e Áudio 219\n",
      "Cafeteira Dolce Gusto Mini Me Nescafé Eletrodomésticos 194\n",
      "Alexa Echo Show 5 Amazon Smart Home 194\n",
      "Geladeira Frost Free 380L Brastemp Eletrodomésticos 187\n",
      "Churrasqueira Elétrica Britânia Eletrodomésticos 178\n"
     ]
    }
   ],
   "source": [
    "for produto in top5_produtos_vendidos:\n",
    "    # print(produto)\n",
    "    nome, marca, categoria, qtd_vendida = produto\n",
    "    print(nome, marca, categoria, qtd_vendida)"
   ]
  },
  {
   "cell_type": "code",
   "execution_count": 419,
   "metadata": {},
   "outputs": [
    {
     "data": {
      "text/html": [
       "<div>\n",
       "<style scoped>\n",
       "    .dataframe tbody tr th:only-of-type {\n",
       "        vertical-align: middle;\n",
       "    }\n",
       "\n",
       "    .dataframe tbody tr th {\n",
       "        vertical-align: top;\n",
       "    }\n",
       "\n",
       "    .dataframe thead th {\n",
       "        text-align: right;\n",
       "    }\n",
       "</style>\n",
       "<table border=\"1\" class=\"dataframe\">\n",
       "  <thead>\n",
       "    <tr style=\"text-align: right;\">\n",
       "      <th></th>\n",
       "      <th>Quantidade_Vendida</th>\n",
       "      <th>Faturamento</th>\n",
       "      <th>Numero_Trimestre</th>\n",
       "      <th>Nome_Mes</th>\n",
       "      <th>Latitude</th>\n",
       "      <th>Longitude</th>\n",
       "      <th>Nome_Cidade</th>\n",
       "      <th>Marca</th>\n",
       "      <th>Categoria</th>\n",
       "      <th>Desc_Prod</th>\n",
       "      <th>Nome_Regiao</th>\n",
       "    </tr>\n",
       "  </thead>\n",
       "  <tbody>\n",
       "    <tr>\n",
       "      <th>0</th>\n",
       "      <td>8</td>\n",
       "      <td>200.0</td>\n",
       "      <td>1</td>\n",
       "      <td>Janeiro</td>\n",
       "      <td>-15.77950000</td>\n",
       "      <td>-47.92970000</td>\n",
       "      <td>Brasília</td>\n",
       "      <td>Oster</td>\n",
       "      <td>Eletrodomésticos</td>\n",
       "      <td>Máquina de Café Expresso PrimaLatte II</td>\n",
       "      <td>Centro-Oeste</td>\n",
       "    </tr>\n",
       "    <tr>\n",
       "      <th>1</th>\n",
       "      <td>10</td>\n",
       "      <td>250.0</td>\n",
       "      <td>1</td>\n",
       "      <td>Janeiro</td>\n",
       "      <td>-15.77950000</td>\n",
       "      <td>-47.92970000</td>\n",
       "      <td>Brasília</td>\n",
       "      <td>Sony</td>\n",
       "      <td>TVs e Áudio</td>\n",
       "      <td>Soundbar HT</td>\n",
       "      <td>Centro-Oeste</td>\n",
       "    </tr>\n",
       "    <tr>\n",
       "      <th>2</th>\n",
       "      <td>2</td>\n",
       "      <td>50.5</td>\n",
       "      <td>1</td>\n",
       "      <td>Janeiro</td>\n",
       "      <td>-15.77950000</td>\n",
       "      <td>-47.92970000</td>\n",
       "      <td>Brasília</td>\n",
       "      <td>JBL</td>\n",
       "      <td>Áudio</td>\n",
       "      <td>Headphone Bluetooth T450BT</td>\n",
       "      <td>Centro-Oeste</td>\n",
       "    </tr>\n",
       "    <tr>\n",
       "      <th>3</th>\n",
       "      <td>10</td>\n",
       "      <td>250.0</td>\n",
       "      <td>1</td>\n",
       "      <td>Janeiro</td>\n",
       "      <td>-15.77950000</td>\n",
       "      <td>-47.92970000</td>\n",
       "      <td>Brasília</td>\n",
       "      <td>Irobot</td>\n",
       "      <td>Eletrodomésticos</td>\n",
       "      <td>Aspirador de Pó Robô Roomba 675</td>\n",
       "      <td>Centro-Oeste</td>\n",
       "    </tr>\n",
       "    <tr>\n",
       "      <th>4</th>\n",
       "      <td>5</td>\n",
       "      <td>120.0</td>\n",
       "      <td>1</td>\n",
       "      <td>Janeiro</td>\n",
       "      <td>-15.77950000</td>\n",
       "      <td>-47.92970000</td>\n",
       "      <td>Brasília</td>\n",
       "      <td>JBL</td>\n",
       "      <td>Áudio</td>\n",
       "      <td>Caixa de Som Charge 4</td>\n",
       "      <td>Centro-Oeste</td>\n",
       "    </tr>\n",
       "  </tbody>\n",
       "</table>\n",
       "</div>"
      ],
      "text/plain": [
       "   Quantidade_Vendida  Faturamento Numero_Trimestre Nome_Mes      Latitude  \\\n",
       "0                   8        200.0                1  Janeiro  -15.77950000   \n",
       "1                  10        250.0                1  Janeiro  -15.77950000   \n",
       "2                   2         50.5                1  Janeiro  -15.77950000   \n",
       "3                  10        250.0                1  Janeiro  -15.77950000   \n",
       "4                   5        120.0                1  Janeiro  -15.77950000   \n",
       "\n",
       "      Longitude Nome_Cidade   Marca         Categoria  \\\n",
       "0  -47.92970000    Brasília   Oster  Eletrodomésticos   \n",
       "1  -47.92970000    Brasília    Sony       TVs e Áudio   \n",
       "2  -47.92970000    Brasília     JBL             Áudio   \n",
       "3  -47.92970000    Brasília  Irobot  Eletrodomésticos   \n",
       "4  -47.92970000    Brasília     JBL             Áudio   \n",
       "\n",
       "                                Desc_Prod   Nome_Regiao  \n",
       "0  Máquina de Café Expresso PrimaLatte II  Centro-Oeste  \n",
       "1                             Soundbar HT  Centro-Oeste  \n",
       "2              Headphone Bluetooth T450BT  Centro-Oeste  \n",
       "3         Aspirador de Pó Robô Roomba 675  Centro-Oeste  \n",
       "4                   Caixa de Som Charge 4  Centro-Oeste  "
      ]
     },
     "execution_count": 419,
     "metadata": {},
     "output_type": "execute_result"
    }
   ],
   "source": [
    "dataset_vendas_1_semestre_2023.head()"
   ]
  },
  {
   "cell_type": "code",
   "execution_count": 423,
   "metadata": {},
   "outputs": [
    {
     "data": {
      "text/plain": [
       "[('Sudeste', 1819, 40.885592267925375),\n",
       " ('Centro-Oeste', 1395, 31.35536075522589),\n",
       " ('Sul', 969, 21.780175320296696),\n",
       " ('Nordeste', 266, 5.978871656552035)]"
      ]
     },
     "execution_count": 423,
     "metadata": {},
     "output_type": "execute_result"
    }
   ],
   "source": [
    "qtd_vendida_regiao = dataset_vendas_1_semestre_2023.groupby('Nome_Regiao')[['Quantidade_Vendida']].sum()\n",
    "qtd_vendida_regiao = dataset_vendas_1_semestre_2023.drop_duplicates(subset='Nome_Regiao')\\\n",
    "                                    [['Nome_Regiao']]\\\n",
    "                                    .merge(qtd_vendida_regiao, left_on='Nome_Regiao', right_index=True)\\\n",
    "                                    .sort_values('Quantidade_Vendida', ascending=False)\n",
    "qtd_max = qtd_vendida_regiao['Quantidade_Vendida'].sum()\n",
    "qtd_vendida_regiao['Percentual'] = qtd_vendida_regiao['Quantidade_Vendida'] / qtd_max * 100\n",
    "\n",
    "\n",
    "vendas_regiao = list(map(lambda x,y,z: (x,y,z), qtd_vendida_regiao['Nome_Regiao'], qtd_vendida_regiao['Quantidade_Vendida'], qtd_vendida_regiao['Percentual']))\n",
    "vendas_regiao"
   ]
  },
  {
   "cell_type": "code",
   "execution_count": null,
   "metadata": {},
   "outputs": [],
   "source": []
  }
 ],
 "metadata": {
  "kernelspec": {
   "display_name": "venv",
   "language": "python",
   "name": "python3"
  },
  "language_info": {
   "codemirror_mode": {
    "name": "ipython",
    "version": 3
   },
   "file_extension": ".py",
   "mimetype": "text/x-python",
   "name": "python",
   "nbconvert_exporter": "python",
   "pygments_lexer": "ipython3",
   "version": "3.10.11"
  },
  "orig_nbformat": 4
 },
 "nbformat": 4,
 "nbformat_minor": 2
}
